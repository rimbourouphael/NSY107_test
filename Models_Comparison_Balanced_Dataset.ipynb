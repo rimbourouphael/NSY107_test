{
  "cells": [
    {
      "cell_type": "markdown",
      "metadata": {
        "id": "VNaBIgBdmgwt"
      },
      "source": [
        "### Models Comparison\n",
        "\n",
        "This code is part our research on malware detection and classification using Deep Learning and Deep Graph Convolutional Neural Networks.\n",
        "\n",
        "For more information or citation, please refer to our research paper:\n",
        "\n",
        "\"Oliveira, Angelo; Sassi, Renato José (2019): Behavioral Malware Detection Using Deep Graph Convolutional Neural Networks. TechRxiv. Preprint.\" at https://doi.org/10.36227/techrxiv.10043099.v1\n",
        "\n",
        "For the dataset, please refer to our repository: \n",
        "\n",
        "https://ieee-dataport.org/open-access/malware-analysis-datasets-api-call-sequences\n",
        "\n",
        "#### Balanced Dataset"
      ]
    },
    {
      "cell_type": "code",
      "execution_count": null,
      "metadata": {
        "id": "0wwMTmG1mgw0"
      },
      "outputs": [],
      "source": [
        "import numpy as np\n",
        "SEED = 137\n",
        "np.random.seed(SEED)\n",
        "\n",
        "import time\n",
        "from collections import Counter\n",
        "\n",
        "import pandas as pd\n",
        "\n",
        "from sklearn.model_selection import train_test_split\n",
        "from sklearn.metrics import accuracy_score, recall_score, confusion_matrix\n",
        "from sklearn.metrics import precision_score, f1_score, roc_auc_score, roc_curve\n",
        "from sklearn import decomposition\n",
        "\n",
        "from imblearn.under_sampling import RandomUnderSampler\n",
        "from imblearn.pipeline import Pipeline\n",
        "\n",
        "import torch\n",
        "torch.manual_seed(SEED)\n",
        "import torch.nn as nn\n",
        "import torch.nn.functional as F\n",
        "\n",
        "from skorch.classifier import NeuralNetBinaryClassifier\n",
        "\n",
        "import matplotlib.pyplot as plt\n",
        "from matplotlib import pyplot"
      ]
    },
    {
      "cell_type": "markdown",
      "metadata": {
        "id": "zm5Hj9H8mgw4"
      },
      "source": [
        "### Data Preprocessing"
      ]
    },
    {
      "cell_type": "code",
      "execution_count": null,
      "metadata": {
        "id": "f7P8h4mBmgw5",
        "outputId": "c9b415a6-94d5-4182-cc04-b7de30595ec3"
      },
      "outputs": [
        {
          "data": {
            "text/html": [
              "<div>\n",
              "<style scoped>\n",
              "    .dataframe tbody tr th:only-of-type {\n",
              "        vertical-align: middle;\n",
              "    }\n",
              "\n",
              "    .dataframe tbody tr th {\n",
              "        vertical-align: top;\n",
              "    }\n",
              "\n",
              "    .dataframe thead th {\n",
              "        text-align: right;\n",
              "    }\n",
              "</style>\n",
              "<table border=\"1\" class=\"dataframe\">\n",
              "  <thead>\n",
              "    <tr style=\"text-align: right;\">\n",
              "      <th></th>\n",
              "      <th>hash</th>\n",
              "      <th>t_0</th>\n",
              "      <th>t_1</th>\n",
              "      <th>t_2</th>\n",
              "      <th>t_3</th>\n",
              "      <th>t_4</th>\n",
              "      <th>t_5</th>\n",
              "      <th>t_6</th>\n",
              "      <th>t_7</th>\n",
              "      <th>t_8</th>\n",
              "      <th>...</th>\n",
              "      <th>t_91</th>\n",
              "      <th>t_92</th>\n",
              "      <th>t_93</th>\n",
              "      <th>t_94</th>\n",
              "      <th>t_95</th>\n",
              "      <th>t_96</th>\n",
              "      <th>t_97</th>\n",
              "      <th>t_98</th>\n",
              "      <th>t_99</th>\n",
              "      <th>malware</th>\n",
              "    </tr>\n",
              "  </thead>\n",
              "  <tbody>\n",
              "    <tr>\n",
              "      <td>0</td>\n",
              "      <td>071e8c3f8922e186e57548cd4c703a5d</td>\n",
              "      <td>112</td>\n",
              "      <td>274</td>\n",
              "      <td>158</td>\n",
              "      <td>215</td>\n",
              "      <td>274</td>\n",
              "      <td>158</td>\n",
              "      <td>215</td>\n",
              "      <td>298</td>\n",
              "      <td>76</td>\n",
              "      <td>...</td>\n",
              "      <td>71</td>\n",
              "      <td>297</td>\n",
              "      <td>135</td>\n",
              "      <td>171</td>\n",
              "      <td>215</td>\n",
              "      <td>35</td>\n",
              "      <td>208</td>\n",
              "      <td>56</td>\n",
              "      <td>71</td>\n",
              "      <td>1</td>\n",
              "    </tr>\n",
              "    <tr>\n",
              "      <td>1</td>\n",
              "      <td>33f8e6d08a6aae939f25a8e0d63dd523</td>\n",
              "      <td>82</td>\n",
              "      <td>208</td>\n",
              "      <td>187</td>\n",
              "      <td>208</td>\n",
              "      <td>172</td>\n",
              "      <td>117</td>\n",
              "      <td>172</td>\n",
              "      <td>117</td>\n",
              "      <td>172</td>\n",
              "      <td>...</td>\n",
              "      <td>81</td>\n",
              "      <td>240</td>\n",
              "      <td>117</td>\n",
              "      <td>71</td>\n",
              "      <td>297</td>\n",
              "      <td>135</td>\n",
              "      <td>171</td>\n",
              "      <td>215</td>\n",
              "      <td>35</td>\n",
              "      <td>1</td>\n",
              "    </tr>\n",
              "    <tr>\n",
              "      <td>2</td>\n",
              "      <td>b68abd064e975e1c6d5f25e748663076</td>\n",
              "      <td>16</td>\n",
              "      <td>110</td>\n",
              "      <td>240</td>\n",
              "      <td>117</td>\n",
              "      <td>240</td>\n",
              "      <td>117</td>\n",
              "      <td>240</td>\n",
              "      <td>117</td>\n",
              "      <td>240</td>\n",
              "      <td>...</td>\n",
              "      <td>65</td>\n",
              "      <td>112</td>\n",
              "      <td>123</td>\n",
              "      <td>65</td>\n",
              "      <td>112</td>\n",
              "      <td>123</td>\n",
              "      <td>65</td>\n",
              "      <td>113</td>\n",
              "      <td>112</td>\n",
              "      <td>1</td>\n",
              "    </tr>\n",
              "    <tr>\n",
              "      <td>3</td>\n",
              "      <td>72049be7bd30ea61297ea624ae198067</td>\n",
              "      <td>82</td>\n",
              "      <td>208</td>\n",
              "      <td>187</td>\n",
              "      <td>208</td>\n",
              "      <td>172</td>\n",
              "      <td>117</td>\n",
              "      <td>172</td>\n",
              "      <td>117</td>\n",
              "      <td>172</td>\n",
              "      <td>...</td>\n",
              "      <td>208</td>\n",
              "      <td>302</td>\n",
              "      <td>208</td>\n",
              "      <td>302</td>\n",
              "      <td>187</td>\n",
              "      <td>208</td>\n",
              "      <td>302</td>\n",
              "      <td>228</td>\n",
              "      <td>302</td>\n",
              "      <td>1</td>\n",
              "    </tr>\n",
              "    <tr>\n",
              "      <td>4</td>\n",
              "      <td>c9b3700a77facf29172f32df6bc77f48</td>\n",
              "      <td>82</td>\n",
              "      <td>240</td>\n",
              "      <td>117</td>\n",
              "      <td>240</td>\n",
              "      <td>117</td>\n",
              "      <td>240</td>\n",
              "      <td>117</td>\n",
              "      <td>240</td>\n",
              "      <td>117</td>\n",
              "      <td>...</td>\n",
              "      <td>209</td>\n",
              "      <td>260</td>\n",
              "      <td>40</td>\n",
              "      <td>209</td>\n",
              "      <td>260</td>\n",
              "      <td>141</td>\n",
              "      <td>260</td>\n",
              "      <td>141</td>\n",
              "      <td>260</td>\n",
              "      <td>1</td>\n",
              "    </tr>\n",
              "  </tbody>\n",
              "</table>\n",
              "<p>5 rows × 102 columns</p>\n",
              "</div>"
            ],
            "text/plain": [
              "                               hash  t_0  t_1  t_2  t_3  t_4  t_5  t_6  t_7  \\\n",
              "0  071e8c3f8922e186e57548cd4c703a5d  112  274  158  215  274  158  215  298   \n",
              "1  33f8e6d08a6aae939f25a8e0d63dd523   82  208  187  208  172  117  172  117   \n",
              "2  b68abd064e975e1c6d5f25e748663076   16  110  240  117  240  117  240  117   \n",
              "3  72049be7bd30ea61297ea624ae198067   82  208  187  208  172  117  172  117   \n",
              "4  c9b3700a77facf29172f32df6bc77f48   82  240  117  240  117  240  117  240   \n",
              "\n",
              "   t_8  ...  t_91  t_92  t_93  t_94  t_95  t_96  t_97  t_98  t_99  malware  \n",
              "0   76  ...    71   297   135   171   215    35   208    56    71        1  \n",
              "1  172  ...    81   240   117    71   297   135   171   215    35        1  \n",
              "2  240  ...    65   112   123    65   112   123    65   113   112        1  \n",
              "3  172  ...   208   302   208   302   187   208   302   228   302        1  \n",
              "4  117  ...   209   260    40   209   260   141   260   141   260        1  \n",
              "\n",
              "[5 rows x 102 columns]"
            ]
          },
          "execution_count": 2,
          "metadata": {},
          "output_type": "execute_result"
        }
      ],
      "source": [
        "df = pd.read_csv('dynamic_api_call_sequence_per_malware_100_0_306.csv')\n",
        "df.head()"
      ]
    },
    {
      "cell_type": "code",
      "execution_count": null,
      "metadata": {
        "id": "U8froirhmgw8",
        "outputId": "6dac5805-0557-4eb9-9810-0b0ccf0f979f"
      },
      "outputs": [
        {
          "name": "stdout",
          "output_type": "stream",
          "text": [
            "<class 'pandas.core.frame.DataFrame'>\n",
            "RangeIndex: 43876 entries, 0 to 43875\n",
            "Columns: 102 entries, hash to malware\n",
            "dtypes: int64(101), object(1)\n",
            "memory usage: 34.1+ MB\n"
          ]
        }
      ],
      "source": [
        "df.info()"
      ]
    },
    {
      "cell_type": "code",
      "execution_count": null,
      "metadata": {
        "id": "l9hGtMW5mgw9",
        "outputId": "5bba2192-f811-4484-87fc-a0c78c02ab07"
      },
      "outputs": [
        {
          "name": "stdout",
          "output_type": "stream",
          "text": [
            "(43876, 100)\n",
            "(43876,)\n"
          ]
        }
      ],
      "source": [
        "X = df.drop(['hash', 'malware'], axis = 1).values.astype(int)\n",
        "y = df['malware'].values.astype(int)\n",
        "print(X.shape)\n",
        "print(y.shape)"
      ]
    },
    {
      "cell_type": "code",
      "execution_count": null,
      "metadata": {
        "id": "BKoQIlN-mgw_",
        "outputId": "04bd6549-dd6a-410e-ebee-634056c03c66"
      },
      "outputs": [
        {
          "name": "stdout",
          "output_type": "stream",
          "text": [
            "0\n",
            "306\n"
          ]
        }
      ],
      "source": [
        "print(X.min())\n",
        "print(X.max())"
      ]
    },
    {
      "cell_type": "code",
      "execution_count": null,
      "metadata": {
        "id": "r-xYEKegmgxC"
      },
      "outputs": [],
      "source": [
        "def check_imbalance(dataset):\n",
        "    count = sorted(Counter(dataset).items())\n",
        "    print(count)\n",
        "    print(count[1][1] / count[0][1])\n",
        "    return"
      ]
    },
    {
      "cell_type": "code",
      "execution_count": null,
      "metadata": {
        "id": "9VgxtjYdmgxE",
        "outputId": "9679c6b5-39b6-4159-e026-7bfe6ff7c489"
      },
      "outputs": [
        {
          "name": "stdout",
          "output_type": "stream",
          "text": [
            "[(0, 1079), (1, 42797)]\n",
            "39.66357738646895\n"
          ]
        }
      ],
      "source": [
        "check_imbalance(y)"
      ]
    },
    {
      "cell_type": "code",
      "execution_count": null,
      "metadata": {
        "id": "fqIlNbWHmgxG",
        "outputId": "08bd3fb3-bd9c-4381-b1b8-c029d31a733b"
      },
      "outputs": [
        {
          "name": "stdout",
          "output_type": "stream",
          "text": [
            "[(0, 1079), (1, 1079)]\n",
            "1.0\n"
          ]
        }
      ],
      "source": [
        "random_undersampler = RandomUnderSampler(random_state = SEED)\n",
        "\n",
        "X, y = random_undersampler.fit_resample(X, y)\n",
        "\n",
        "check_imbalance(y)"
      ]
    },
    {
      "cell_type": "code",
      "execution_count": null,
      "metadata": {
        "id": "jbmYcg5imgxH"
      },
      "outputs": [],
      "source": [
        "X_train, X_test, y_train, y_test = train_test_split(X, y, test_size = 0.3, random_state = SEED)"
      ]
    },
    {
      "cell_type": "code",
      "execution_count": null,
      "metadata": {
        "id": "14cnnHeRmgxI",
        "outputId": "c0148bbb-8e8e-48ee-b7af-038c54699079"
      },
      "outputs": [
        {
          "name": "stdout",
          "output_type": "stream",
          "text": [
            "[(0, 738), (1, 772)]\n",
            "1.046070460704607\n",
            "[(0, 341), (1, 307)]\n",
            "0.9002932551319648\n"
          ]
        }
      ],
      "source": [
        "check_imbalance(y_train)\n",
        "check_imbalance(y_test)\n",
        "\n",
        "del df, X, y"
      ]
    },
    {
      "cell_type": "markdown",
      "metadata": {
        "id": "0AiYaMk_mgxJ"
      },
      "source": [
        "### Models"
      ]
    },
    {
      "cell_type": "markdown",
      "metadata": {
        "id": "QdOX3LKmmgxK"
      },
      "source": [
        "#### DGCNN"
      ]
    },
    {
      "cell_type": "code",
      "execution_count": null,
      "metadata": {
        "id": "m3c897vfmgxL"
      },
      "outputs": [],
      "source": [
        "def norn_adj(X, input_dim_1):\n",
        "    \n",
        "    A = torch.zeros((X.size(0), input_dim_1, input_dim_1), dtype = torch.float).cuda()\n",
        "        \n",
        "    A_view = A.view(A.size(0), -1)\n",
        "    x_size = X.size(-1)\n",
        "    indices = X.narrow(-1, 0, x_size - 1) * A.stride(1) * A.stride(2) + X.narrow(-1, 1, x_size - 1) * A.stride(2)\n",
        "    A_view.scatter_(1, indices, 1)\n",
        "        \n",
        "    A_hat = A + torch.eye(input_dim_1, dtype = torch.float).cuda()\n",
        "    D_hat = A_hat.sum(dim = 1).pow(-1.0).diag_embed()\n",
        "    \n",
        "    return A_hat, D_hat\n",
        "\n",
        "def to_one_hot(X, input_dim_1):\n",
        "    \n",
        "    X = F.one_hot(X, num_classes = input_dim_1).float()    \n",
        "    X = X.permute(0, 2, 1)\n",
        "    \n",
        "    return X\n",
        "\n",
        "class DGCNN_network(nn.Module):\n",
        "    \n",
        "    def __init__(self, weight_dim_1, weight_dim_2):\n",
        "\n",
        "        super(DGCNN_network, self).__init__()\n",
        "        self.weight_dim_1 = weight_dim_1\n",
        "        self.weight_dim_2 = weight_dim_2        \n",
        "        self.weights = nn.Parameter(torch.rand((self.weight_dim_1, weight_dim_2), dtype = torch.float, requires_grad = True))\n",
        "        \n",
        "    def forward(self, A_hat, D_hat, X):\n",
        "        return D_hat.matmul(A_hat).matmul(X).matmul(self.weights)"
      ]
    },
    {
      "cell_type": "markdown",
      "metadata": {
        "id": "ZrxNjt84mgxM"
      },
      "source": [
        "#### Model-1"
      ]
    },
    {
      "cell_type": "code",
      "execution_count": null,
      "metadata": {
        "id": "GsNCk_fmmgxN"
      },
      "outputs": [],
      "source": [
        "H_list_model_1 = []\n",
        "\n",
        "class Model_1_network(nn.Module):\n",
        "    \n",
        "    def __init__(self, input_dim_1, input_dim_2, weight_dim_2, dropout_rate):\n",
        "        \n",
        "        super(Model_1_network, self).__init__()\n",
        "        \n",
        "        self.input_dim_1 = input_dim_1\n",
        "        self.input_dim_2 = input_dim_2\n",
        "        self.weight_dim_1 = input_dim_2\n",
        "        self.weight_dim_2 = weight_dim_2\n",
        "        self.dropout_rate = dropout_rate\n",
        "        \n",
        "        self.dgcnn = DGCNN_network(self.weight_dim_1, self.weight_dim_2)\n",
        "        self.dropout = nn.Dropout(p = self.dropout_rate)\n",
        "        self.fc = nn.Linear(self.input_dim_1 * self.weight_dim_2, 1)\n",
        "        \n",
        "    def forward(self, X):\n",
        "        \n",
        "        A_hat, D_hat = norn_adj(X, input_dim_1)\n",
        "        X = to_one_hot(X, input_dim_1)\n",
        "\n",
        "        H = self.dgcnn(A_hat, D_hat, X)\n",
        "        H = self.dropout(H)\n",
        "        H = torch.relu(H)\n",
        "        H = H.view(H.size(0), -1)\n",
        "        \n",
        "        # Visualization\n",
        "        if not self.training:\n",
        "            H_list_model_1.append(H.cpu())        \n",
        "        \n",
        "        H = self.fc(H)\n",
        "                \n",
        "        return H.squeeze()"
      ]
    },
    {
      "cell_type": "markdown",
      "metadata": {
        "id": "jWQbMqmlmgxO"
      },
      "source": [
        "#### Model-2"
      ]
    },
    {
      "cell_type": "code",
      "execution_count": null,
      "metadata": {
        "id": "AN8Ea5FbmgxP"
      },
      "outputs": [],
      "source": [
        "H_list_model_2 = []\n",
        "\n",
        "class Model_2_network(nn.Module):\n",
        "    \n",
        "    def __init__(self, input_dim_1, input_dim_2, weight_dim_2, weight_dim_4, dropout_rate):\n",
        "    \n",
        "        super(Model_2_network, self).__init__()\n",
        "        \n",
        "        self.input_dim_1 = input_dim_1\n",
        "        self.input_dim_2 = input_dim_2\n",
        "        self.weight_dim_1 = input_dim_2\n",
        "        self.weight_dim_2 = weight_dim_2\n",
        "        self.weight_dim_3 = weight_dim_2\n",
        "        self.weight_dim_4 = weight_dim_4\n",
        "        self.dropout_rate = dropout_rate\n",
        "        \n",
        "        self.dgcnn_1 = DGCNN_network(self.weight_dim_1, self.weight_dim_2)\n",
        "        self.dropout = nn.Dropout(p = self.dropout_rate)\n",
        "        self.dgcnn_2 = DGCNN_network(self.weight_dim_3, self.weight_dim_4)\n",
        "        self.fc = nn.Linear(self.input_dim_1 * (self.weight_dim_2 + self.weight_dim_4), 1)\n",
        "        \n",
        "    def forward(self, X):\n",
        "        \n",
        "        A_hat, D_hat = norn_adj(X, input_dim_1)\n",
        "        X = to_one_hot(X, input_dim_1)        \n",
        "\n",
        "        H_1 = self.dgcnn_1(A_hat, D_hat, X)\n",
        "        H_1 = self.dropout(H_1)\n",
        "        H_1 = torch.relu(H_1)\n",
        "        H_2 = self.dgcnn_2(A_hat, D_hat, H_1)\n",
        "        H_2 = self.dropout(H_2)\n",
        "        H_2 = torch.relu(H_2)\n",
        "        H_2 = torch.cat([H_1, H_2], 2)\n",
        "        H_2 = H_2.view(H_2.size(0), -1)\n",
        "\n",
        "        # Visualization\n",
        "        if not self.training:\n",
        "            H_list_model_2.append(H_2)   \n",
        "        \n",
        "        H_2 = self.fc(H_2)\n",
        "                \n",
        "        return H_2.squeeze()"
      ]
    },
    {
      "cell_type": "markdown",
      "metadata": {
        "id": "aMI7OiR_mgxQ"
      },
      "source": [
        "#### LSTM"
      ]
    },
    {
      "cell_type": "code",
      "execution_count": null,
      "metadata": {
        "id": "mkYNsyZEmgxR"
      },
      "outputs": [],
      "source": [
        "H_list_lstm = []\n",
        "\n",
        "class LSTM_network(nn.Module):\n",
        "    \n",
        "    def __init__(self, input_dim, hidden_dim, dropout_rate):\n",
        "        \n",
        "        super(LSTM_network, self).__init__()\n",
        "        \n",
        "        self.input_dim = input_dim\n",
        "        self.hidden_dim = hidden_dim\n",
        "        self.dropout_rate = dropout_rate\n",
        "        \n",
        "        self.lstm = nn.LSTM(self.input_dim, self.hidden_dim, batch_first = True)\n",
        "        self.dropout = nn.Dropout(p = self.dropout_rate)\n",
        "        self.fc = nn.Linear(self.hidden_dim, 1)\n",
        "        \n",
        "    def forward(self, X):\n",
        "        \n",
        "        X = F.one_hot(X, num_classes = self.input_dim).float().cuda()\n",
        "        \n",
        "        # Hidden layer shape: (num_layers, batch_size, hidden_dim)\n",
        "        hidden_0 = (torch.zeros(1, X.size(0), self.hidden_dim).float().cuda(),\n",
        "                    torch.zeros(1, X.size(0), self.hidden_dim).float().cuda())\n",
        "        \n",
        "        # Input/Output shape: (batch_size, seq_len, input_dim)\n",
        "        _, self.hidden = self.lstm(X, hidden_0)\n",
        "                \n",
        "        H = self.hidden[0].squeeze()\n",
        "        H = self.dropout(H)\n",
        "        \n",
        "        # Visualization\n",
        "        if not self.training:\n",
        "            H_list_lstm.append(H)           \n",
        "        \n",
        "        H = self.fc(H)\n",
        "                \n",
        "        return H.squeeze()"
      ]
    },
    {
      "cell_type": "markdown",
      "metadata": {
        "id": "7AtiScJ2mgxS"
      },
      "source": [
        "### Evaluation"
      ]
    },
    {
      "cell_type": "code",
      "execution_count": null,
      "metadata": {
        "id": "gM7it3-EmgxT"
      },
      "outputs": [],
      "source": [
        "def model_evaluate(y, pred):\n",
        "    print('Confusion matrix\\n[TN FP]\\n[FN TP]')\n",
        "    print(confusion_matrix(y >= 0.5, pred >= 0.5))\n",
        "    print(f'Accuracy: {accuracy_score(y >= 0.5, pred >= 0.5):.4f}')\n",
        "    print(f'Precision: {precision_score(y >= 0.5, pred >= 0.5):.4f}')\n",
        "    print(f'Recall: {recall_score(y >= 0.5, pred >= 0.5):.4f}')\n",
        "    print(f'F1-Score: {f1_score(y >= 0.5, pred >= 0.5):.4f}')\n",
        "    print(f'ROC AUC: {roc_auc_score(y, pred):.4f}')\n",
        "    return"
      ]
    },
    {
      "cell_type": "markdown",
      "metadata": {
        "id": "q5G1sxpGmgxU"
      },
      "source": [
        "#### LSTM"
      ]
    },
    {
      "cell_type": "code",
      "execution_count": null,
      "metadata": {
        "id": "1yQBd8DlmgxU",
        "outputId": "e3762ca2-8946-4a3b-f9fd-e6180594f53d"
      },
      "outputs": [
        {
          "name": "stdout",
          "output_type": "stream",
          "text": [
            "  epoch    train_loss     dur\n",
            "-------  ------------  ------\n",
            "      1        \u001b[36m0.6664\u001b[0m  0.3884\n",
            "      2        \u001b[36m0.5257\u001b[0m  0.1893\n",
            "      3        \u001b[36m0.4366\u001b[0m  0.1734\n",
            "      4        \u001b[36m0.4106\u001b[0m  0.1733\n",
            "      5        \u001b[36m0.3575\u001b[0m  0.1728\n",
            "      6        \u001b[36m0.3386\u001b[0m  0.1733\n",
            "      7        \u001b[36m0.3072\u001b[0m  0.1744\n",
            "      8        0.3523  0.1737\n",
            "      9        0.3200  0.1759\n",
            "     10        0.6659  0.1748\n",
            "     11        0.3816  0.1737\n",
            "     12        0.3830  0.1705\n",
            "     13        0.3078  0.1736\n",
            "     14        \u001b[36m0.2816\u001b[0m  0.1730\n",
            "     15        \u001b[36m0.2746\u001b[0m  0.1730\n",
            "     16        \u001b[36m0.2595\u001b[0m  0.1729\n",
            "     17        \u001b[36m0.2463\u001b[0m  0.1726\n",
            "     18        \u001b[36m0.2186\u001b[0m  0.1687\n",
            "     19        \u001b[36m0.2099\u001b[0m  0.1696\n",
            "     20        \u001b[36m0.1955\u001b[0m  0.1705\n",
            "     21        \u001b[36m0.1932\u001b[0m  0.1735\n",
            "     22        0.2224  0.1719\n",
            "     23        0.1950  0.1731\n",
            "     24        \u001b[36m0.1703\u001b[0m  0.1710\n",
            "     25        \u001b[36m0.1659\u001b[0m  0.1704\n",
            "     26        \u001b[36m0.1553\u001b[0m  0.1725\n",
            "     27        \u001b[36m0.1501\u001b[0m  0.1720\n",
            "     28        \u001b[36m0.1463\u001b[0m  0.1716\n",
            "     29        0.1568  0.1719\n",
            "     30        \u001b[36m0.1236\u001b[0m  0.1721\n"
          ]
        },
        {
          "data": {
            "text/plain": [
              "Pipeline(memory=None,\n",
              "         steps=[('model',\n",
              "                 <class 'skorch.classifier.NeuralNetBinaryClassifier'>[initialized](\n",
              "  module_=LSTM_network(\n",
              "    (lstm): LSTM(307, 10, batch_first=True)\n",
              "    (dropout): Dropout(p=0.4, inplace=False)\n",
              "    (fc): Linear(in_features=10, out_features=1, bias=True)\n",
              "  ),\n",
              "))],\n",
              "         verbose=False)"
            ]
          },
          "execution_count": 16,
          "metadata": {},
          "output_type": "execute_result"
        }
      ],
      "source": [
        "torch.manual_seed(SEED)\n",
        "\n",
        "input_dim = 307\n",
        "hidden_dim = 10\n",
        "dropout_rate = 0.4\n",
        "batch_size = 32\n",
        "max_epochs = 30\n",
        "\n",
        "LSTM = NeuralNetBinaryClassifier(\n",
        "    LSTM_network,\n",
        "    module__input_dim = input_dim,\n",
        "    module__hidden_dim = hidden_dim,\n",
        "    module__dropout_rate = dropout_rate,\n",
        "    batch_size = batch_size,\n",
        "    max_epochs = max_epochs,\n",
        "    train_split = None,\n",
        "    optimizer = torch.optim.Adam,\n",
        "    iterator_train__shuffle = True,\n",
        "    device = 'cuda'\n",
        ")\n",
        "\n",
        "pipe = Pipeline([\n",
        "    ('model', LSTM)\n",
        "])\n",
        "\n",
        "pipe.fit(X_train, y_train.astype(np.float))"
      ]
    },
    {
      "cell_type": "code",
      "execution_count": null,
      "metadata": {
        "id": "xgkvNEMtmgxV",
        "outputId": "18c838db-7312-45e4-d0be-bd7ef10a85bc"
      },
      "outputs": [
        {
          "name": "stdout",
          "output_type": "stream",
          "text": [
            "Confusion matrix\n",
            "[TN FP]\n",
            "[FN TP]\n",
            "[[  0 341]\n",
            " [  0 307]]\n",
            "Accuracy: 0.4738\n",
            "Precision: 0.4738\n",
            "Recall: 1.0000\n",
            "F1-Score: 0.6429\n",
            "ROC AUC: 0.5000\n",
            "Confusion matrix\n",
            "[TN FP]\n",
            "[FN TP]\n",
            "[[288  53]\n",
            " [ 45 262]]\n",
            "Accuracy: 0.8488\n",
            "Precision: 0.8317\n",
            "Recall: 0.8534\n",
            "F1-Score: 0.8424\n",
            "ROC AUC: 0.9270\n"
          ]
        }
      ],
      "source": [
        "H_list_lstm.clear()\n",
        "\n",
        "X_test_predictions_1 = pipe.predict_proba(X_test)\n",
        "model_evaluate(y_test, np.ones(len(y_test)))\n",
        "model_evaluate(y_test, X_test_predictions_1)"
      ]
    },
    {
      "cell_type": "code",
      "execution_count": null,
      "metadata": {
        "id": "f4qn2Af-mgxW",
        "outputId": "1b39392a-a10a-476c-ca70-cbfc6a543a8d"
      },
      "outputs": [
        {
          "data": {
            "image/png": "[encoded data removed]",
            "text/plain": [
              "<Figure size 432x288 with 1 Axes>"
            ]
          },
          "metadata": {
            "needs_background": "light"
          },
          "output_type": "display_data"
        }
      ],
      "source": [
        "fpr_1, tpr_1, thresholds_1 = roc_curve(y_test, X_test_predictions_1)\n",
        "pyplot.plot([0, 1], [0, 1], linestyle='--')\n",
        "pyplot.plot(fpr_1, tpr_1)\n",
        "pyplot.show()"
      ]
    },
    {
      "cell_type": "code",
      "execution_count": null,
      "metadata": {
        "id": "tjPIcSAgmgxX"
      },
      "outputs": [],
      "source": [
        "def visualize(X, y, points, n_features):\n",
        "    points = np.arange(points)\n",
        "    np.random.shuffle(points)\n",
        "    color = ['red' if l == 1 else 'green' for l in y[points]]\n",
        "    for i in range(n_features):\n",
        "        for j in range(n_features):\n",
        "            if j > i:\n",
        "                plt.scatter(X[points, i], X[points, j], color = color)\n",
        "                plt.pause(0.1)\n",
        "                # plt.savefig('test.pdf')\n",
        "                # plt.clf()\n",
        "                print('*')\n",
        "    return"
      ]
    },
    {
      "cell_type": "code",
      "execution_count": null,
      "metadata": {
        "id": "kLAqtH3vmgxY"
      },
      "outputs": [],
      "source": [
        "def visualize_pca(X, y):\n",
        "    X = X / np.max(X)\n",
        "    pca = decomposition.PCA(n_components = 2)\n",
        "    visualize(pca.fit_transform(X), y, X.shape[0], 2)\n",
        "    return"
      ]
    },
    {
      "cell_type": "code",
      "execution_count": null,
      "metadata": {
        "id": "ck7Uzg7SmgxY",
        "outputId": "f39b292c-6f34-4177-f015-d61499151b7b"
      },
      "outputs": [
        {
          "data": {
            "image/png": "[encoded data removed]",
            "text/plain": [
              "<Figure size 432x288 with 1 Axes>"
            ]
          },
          "metadata": {
            "needs_background": "light"
          },
          "output_type": "display_data"
        },
        {
          "data": {
            "image/png": "[encoded data removed]",
            "text/plain": [
              "<Figure size 432x288 with 1 Axes>"
            ]
          },
          "metadata": {
            "needs_background": "light"
          },
          "output_type": "display_data"
        }
      ],
      "source": [
        "# visualize_pca(X_test, y_test)\n",
        "\n",
        "X = X_test / np.max(X_test)\n",
        "pca = decomposition.PCA(n_components = 2)\n",
        "X = pca.fit_transform(X)\n",
        "points = np.arange(X.shape[0])\n",
        "plt.scatter(X[points, 0], X[points, 1], color = ['red' if l == 1 else 'green' for l in y_test[points]])\n",
        "plt.savefig('test_1.pdf')\n",
        "plt.show()\n",
        "\n",
        "result = torch.zeros(1, 10)\n",
        "\n",
        "for i in H_list_lstm:\n",
        "    result = torch.cat([result, i.cpu()], 0)\n",
        "\n",
        "X_result = result.numpy()[1:]\n",
        "\n",
        "X = X_result / np.max(X_result)\n",
        "pca = decomposition.PCA(n_components = 2)\n",
        "X = pca.fit_transform(X)\n",
        "points = np.arange(X.shape[0])\n",
        "plt.scatter(X[points, 0], X[points, 1], color = ['red' if l == 1 else 'green' for l in y_test[points]])\n",
        "plt.savefig('test_2.pdf')\n",
        "plt.show()"
      ]
    },
    {
      "cell_type": "markdown",
      "metadata": {
        "id": "TnL1JFGtmgxZ"
      },
      "source": [
        "#### Model-1"
      ]
    },
    {
      "cell_type": "code",
      "execution_count": null,
      "metadata": {
        "id": "mq_-vdDymgxZ",
        "outputId": "e069d77d-79e0-4b7e-fb35-be48e3653dfc"
      },
      "outputs": [
        {
          "name": "stdout",
          "output_type": "stream",
          "text": [
            "  epoch    train_loss     dur\n",
            "-------  ------------  ------\n",
            "      1        \u001b[36m1.1504\u001b[0m  0.2666\n",
            "      2        \u001b[36m0.6027\u001b[0m  0.2609\n",
            "      3        \u001b[36m0.4694\u001b[0m  0.2727\n",
            "      4        \u001b[36m0.2702\u001b[0m  0.2848\n",
            "      5        \u001b[36m0.2184\u001b[0m  0.3111\n",
            "      6        \u001b[36m0.1627\u001b[0m  0.2610\n",
            "      7        \u001b[36m0.1275\u001b[0m  0.2623\n",
            "      8        \u001b[36m0.1031\u001b[0m  0.2603\n",
            "      9        \u001b[36m0.1015\u001b[0m  0.2603\n",
            "     10        \u001b[36m0.0937\u001b[0m  0.2618\n",
            "     11        0.0960  0.2616\n",
            "     12        \u001b[36m0.0840\u001b[0m  0.2613\n",
            "     13        \u001b[36m0.0801\u001b[0m  0.2623\n",
            "     14        \u001b[36m0.0682\u001b[0m  0.2624\n",
            "     15        \u001b[36m0.0582\u001b[0m  0.2649\n",
            "     16        0.0599  0.2609\n",
            "     17        0.0603  0.2608\n",
            "     18        0.0582  0.2619\n",
            "     19        \u001b[36m0.0499\u001b[0m  0.2670\n",
            "     20        0.0559  0.2633\n",
            "     21        0.0520  0.2604\n",
            "     22        0.0518  0.2611\n",
            "     23        \u001b[36m0.0434\u001b[0m  0.2609\n",
            "     24        0.0527  0.2629\n",
            "     25        \u001b[36m0.0431\u001b[0m  0.2601\n",
            "     26        0.0441  0.2615\n",
            "     27        0.0470  0.2615\n",
            "     28        0.0522  0.2608\n",
            "     29        \u001b[36m0.0398\u001b[0m  0.2612\n",
            "     30        0.0459  0.2622\n"
          ]
        },
        {
          "data": {
            "text/plain": [
              "Pipeline(memory=None,\n",
              "         steps=[('model',\n",
              "                 <class 'skorch.classifier.NeuralNetBinaryClassifier'>[initialized](\n",
              "  module_=Model_1_network(\n",
              "    (dgcnn): DGCNN_network()\n",
              "    (dropout): Dropout(p=0.6, inplace=False)\n",
              "    (fc): Linear(in_features=9517, out_features=1, bias=True)\n",
              "  ),\n",
              "))],\n",
              "         verbose=False)"
            ]
          },
          "execution_count": 22,
          "metadata": {},
          "output_type": "execute_result"
        }
      ],
      "source": [
        "torch.manual_seed(SEED)\n",
        "\n",
        "input_dim_1 = 307\n",
        "input_dim_2 = 100\n",
        "weight_dim_2 = 31\n",
        "dropout_rate = 0.6\n",
        "batch_size = 32\n",
        "max_epochs = 30\n",
        "\n",
        "model_1 = NeuralNetBinaryClassifier(\n",
        "    Model_1_network,\n",
        "    module__input_dim_1 = input_dim_1,\n",
        "    module__input_dim_2 = input_dim_2,    \n",
        "    module__weight_dim_2 = weight_dim_2,\n",
        "    module__dropout_rate = dropout_rate,\n",
        "    batch_size = batch_size,\n",
        "    max_epochs = max_epochs,\n",
        "    train_split = None,\n",
        "    optimizer = torch.optim.Adam,\n",
        "    iterator_train__shuffle = True,\n",
        "    device = 'cuda'\n",
        ")\n",
        "\n",
        "pipe = Pipeline([\n",
        "    ('model', model_1)\n",
        "])\n",
        "\n",
        "pipe.fit(X_train, y_train.astype(np.float))"
      ]
    },
    {
      "cell_type": "code",
      "execution_count": null,
      "metadata": {
        "id": "4c31Omntmgxa",
        "outputId": "4a35b70a-dac6-4598-bc3a-28e2eff357d8"
      },
      "outputs": [
        {
          "name": "stdout",
          "output_type": "stream",
          "text": [
            "Confusion matrix\n",
            "[TN FP]\n",
            "[FN TP]\n",
            "[[  0 341]\n",
            " [  0 307]]\n",
            "Accuracy: 0.4738\n",
            "Precision: 0.4738\n",
            "Recall: 1.0000\n",
            "F1-Score: 0.6429\n",
            "ROC AUC: 0.5000\n",
            "Confusion matrix\n",
            "[TN FP]\n",
            "[FN TP]\n",
            "[[305  36]\n",
            " [ 22 285]]\n",
            "Accuracy: 0.9105\n",
            "Precision: 0.8879\n",
            "Recall: 0.9283\n",
            "F1-Score: 0.9076\n",
            "ROC AUC: 0.9684\n"
          ]
        }
      ],
      "source": [
        "H_list_model_1.clear()\n",
        "\n",
        "X_test_predictions_2 = pipe.predict_proba(X_test)\n",
        "model_evaluate(y_test, np.ones(len(y_test)))\n",
        "model_evaluate(y_test, X_test_predictions_2)"
      ]
    },
    {
      "cell_type": "code",
      "execution_count": null,
      "metadata": {
        "id": "s1L0w9o9mgxb",
        "outputId": "633cf386-6827-419b-c981-c5e891daff11"
      },
      "outputs": [
        {
          "data": {
            "image/png": "[encoded data removed]",
            "text/plain": [
              "<Figure size 432x288 with 1 Axes>"
            ]
          },
          "metadata": {
            "needs_background": "light"
          },
          "output_type": "display_data"
        }
      ],
      "source": [
        "fpr_2, tpr_2, thresholds_2 = roc_curve(y_test, X_test_predictions_2)\n",
        "pyplot.plot([0, 1], [0, 1], linestyle='--')\n",
        "pyplot.plot(fpr_2, tpr_2)\n",
        "pyplot.show()"
      ]
    },
    {
      "cell_type": "code",
      "execution_count": null,
      "metadata": {
        "id": "qr9hzweHmgxb",
        "outputId": "6e1c32be-5417-4aa2-bbd6-c0f3d6cdad74"
      },
      "outputs": [
        {
          "data": {
            "image/png": "[encoded data removed]",
            "text/plain": [
              "<Figure size 432x288 with 1 Axes>"
            ]
          },
          "metadata": {
            "needs_background": "light"
          },
          "output_type": "display_data"
        }
      ],
      "source": [
        "result = torch.zeros(1, 9517)\n",
        "\n",
        "for i in H_list_model_1:\n",
        "    result = torch.cat([result, i.cpu()], 0)\n",
        "\n",
        "X_result = result.numpy()[1:]\n",
        "\n",
        "X = X_result / np.max(X_result)\n",
        "pca = decomposition.PCA(n_components = 2)\n",
        "X = pca.fit_transform(X)\n",
        "points = np.arange(X.shape[0])\n",
        "\n",
        "plt.scatter(X[points, 0], X[points, 1], color = ['red' if l == 1 else 'green' for l in y_test[points]])\n",
        "plt.savefig('test_3.pdf')\n",
        "plt.show()"
      ]
    },
    {
      "cell_type": "markdown",
      "metadata": {
        "id": "Q3Sb6cgWmgxc"
      },
      "source": [
        "#### Model-2"
      ]
    },
    {
      "cell_type": "code",
      "execution_count": null,
      "metadata": {
        "id": "uyi0u7rVmgxd",
        "outputId": "f9e65b29-a474-468a-8991-7c4ea7908040"
      },
      "outputs": [
        {
          "name": "stdout",
          "output_type": "stream",
          "text": [
            "  epoch    train_loss     dur\n",
            "-------  ------------  ------\n",
            "      1       \u001b[36m19.7568\u001b[0m  0.3017\n",
            "      2        \u001b[36m2.7189\u001b[0m  0.2943\n",
            "      3        \u001b[36m0.7381\u001b[0m  0.2903\n",
            "      4        \u001b[36m0.2684\u001b[0m  0.3021\n",
            "      5        \u001b[36m0.2015\u001b[0m  0.2928\n",
            "      6        \u001b[36m0.1484\u001b[0m  0.2937\n",
            "      7        \u001b[36m0.1281\u001b[0m  0.2923\n",
            "      8        \u001b[36m0.1028\u001b[0m  0.2996\n",
            "      9        \u001b[36m0.0969\u001b[0m  0.2905\n",
            "     10        \u001b[36m0.0780\u001b[0m  0.2908\n",
            "     11        0.0802  0.2917\n",
            "     12        0.0786  0.2931\n",
            "     13        \u001b[36m0.0661\u001b[0m  0.3040\n",
            "     14        \u001b[36m0.0615\u001b[0m  0.2956\n",
            "     15        \u001b[36m0.0526\u001b[0m  0.2956\n",
            "     16        \u001b[36m0.0523\u001b[0m  0.2939\n",
            "     17        \u001b[36m0.0519\u001b[0m  0.2913\n",
            "     18        \u001b[36m0.0512\u001b[0m  0.3036\n",
            "     19        \u001b[36m0.0372\u001b[0m  0.2945\n",
            "     20        0.0402  0.2989\n",
            "     21        0.0373  0.3008\n",
            "     22        \u001b[36m0.0327\u001b[0m  0.3139\n",
            "     23        0.0339  0.3494\n",
            "     24        0.0398  0.3515\n",
            "     25        \u001b[36m0.0283\u001b[0m  0.3582\n",
            "     26        0.0327  0.3616\n",
            "     27        0.0351  0.3711\n",
            "     28        0.0300  0.3898\n",
            "     29        0.0368  0.3618\n",
            "     30        0.0319  0.3285\n"
          ]
        },
        {
          "data": {
            "text/plain": [
              "Pipeline(memory=None,\n",
              "         steps=[('model',\n",
              "                 <class 'skorch.classifier.NeuralNetBinaryClassifier'>[initialized](\n",
              "  module_=Model_2_network(\n",
              "    (dgcnn_1): DGCNN_network()\n",
              "    (dropout): Dropout(p=0.6, inplace=False)\n",
              "    (dgcnn_2): DGCNN_network()\n",
              "    (fc): Linear(in_features=27016, out_features=1, bias=True)\n",
              "  ),\n",
              "))],\n",
              "         verbose=False)"
            ]
          },
          "execution_count": 26,
          "metadata": {},
          "output_type": "execute_result"
        }
      ],
      "source": [
        "torch.manual_seed(SEED)\n",
        "\n",
        "input_dim_1 = 307\n",
        "input_dim_2 = 100\n",
        "weight_dim_2 = 71\n",
        "weight_dim_4 = 17\n",
        "dropout_rate = 0.6\n",
        "batch_size = 32\n",
        "max_epochs = 30\n",
        "\n",
        "model_2 = NeuralNetBinaryClassifier(\n",
        "    Model_2_network,\n",
        "    module__input_dim_1 = input_dim_1,\n",
        "    module__input_dim_2 = input_dim_2,    \n",
        "    module__weight_dim_2 = weight_dim_2,\n",
        "    module__weight_dim_4 = weight_dim_4,\n",
        "    module__dropout_rate = dropout_rate,\n",
        "    batch_size = batch_size,\n",
        "    max_epochs = max_epochs,\n",
        "    train_split = None,\n",
        "    optimizer = torch.optim.Adam,\n",
        "    iterator_train__shuffle = True,\n",
        "    device = 'cuda'\n",
        ")\n",
        "\n",
        "pipe = Pipeline([\n",
        "    ('model', model_2)\n",
        "])\n",
        "\n",
        "pipe.fit(X_train, y_train.astype(np.float))"
      ]
    },
    {
      "cell_type": "code",
      "execution_count": null,
      "metadata": {
        "id": "jiXr56hzmgxe",
        "outputId": "ca238bcb-152a-462f-98a2-c35fe8bdff61"
      },
      "outputs": [
        {
          "name": "stdout",
          "output_type": "stream",
          "text": [
            "Confusion matrix\n",
            "[TN FP]\n",
            "[FN TP]\n",
            "[[  0 341]\n",
            " [  0 307]]\n",
            "Accuracy: 0.4738\n",
            "Precision: 0.4738\n",
            "Recall: 1.0000\n",
            "F1-Score: 0.6429\n",
            "ROC AUC: 0.5000\n",
            "Confusion matrix\n",
            "[TN FP]\n",
            "[FN TP]\n",
            "[[317  24]\n",
            " [ 25 282]]\n",
            "Accuracy: 0.9244\n",
            "Precision: 0.9216\n",
            "Recall: 0.9186\n",
            "F1-Score: 0.9201\n",
            "ROC AUC: 0.9729\n"
          ]
        }
      ],
      "source": [
        "H_list_model_2.clear()\n",
        "\n",
        "X_test_predictions_3 = pipe.predict_proba(X_test)\n",
        "model_evaluate(y_test, np.ones(len(y_test)))\n",
        "model_evaluate(y_test, X_test_predictions_3)"
      ]
    },
    {
      "cell_type": "code",
      "execution_count": null,
      "metadata": {
        "id": "Avbqji-Lmgxf",
        "outputId": "f0e440d0-f249-46c0-9adb-fa747986caef"
      },
      "outputs": [
        {
          "data": {
            "image/png": "[encoded data removed]",
            "text/plain": [
              "<Figure size 432x288 with 1 Axes>"
            ]
          },
          "metadata": {
            "needs_background": "light"
          },
          "output_type": "display_data"
        }
      ],
      "source": [
        "fpr_3, tpr_3, thresholds_3 = roc_curve(y_test, X_test_predictions_3)\n",
        "pyplot.plot([0, 1], [0, 1], linestyle = '--')\n",
        "pyplot.plot(fpr_3, tpr_3)\n",
        "pyplot.show()"
      ]
    },
    {
      "cell_type": "code",
      "execution_count": null,
      "metadata": {
        "id": "C00adzu2mgxf",
        "outputId": "b1181015-5321-4bab-f255-7cc502f4eb00"
      },
      "outputs": [
        {
          "data": {
            "image/png": "[encoded data removed]",
            "text/plain": [
              "<Figure size 432x288 with 1 Axes>"
            ]
          },
          "metadata": {
            "needs_background": "light"
          },
          "output_type": "display_data"
        }
      ],
      "source": [
        "result = torch.zeros(1, 27016)\n",
        "\n",
        "for i in H_list_model_2:\n",
        "    result = torch.cat([result, i.cpu()], 0)\n",
        "\n",
        "X_result = result.numpy()[1:]\n",
        "\n",
        "X = X_result / np.max(X_result)\n",
        "pca = decomposition.PCA(n_components = 2)\n",
        "X = pca.fit_transform(X)\n",
        "points = np.arange(X.shape[0])\n",
        "\n",
        "plt.scatter(X[points, 0], X[points, 1], color = ['red' if l == 1 else 'green' for l in y_test[points]])\n",
        "plt.savefig('test_4.pdf')\n",
        "plt.show()"
      ]
    },
    {
      "cell_type": "code",
      "execution_count": null,
      "metadata": {
        "id": "UVcaBuRamgxg",
        "outputId": "f52e69c6-ea7f-45f0-ea95-f73816a4de8a"
      },
      "outputs": [
        {
          "data": {
            "image/png": "[encoded data removed]",
            "text/plain": [
              "<Figure size 432x288 with 1 Axes>"
            ]
          },
          "metadata": {
            "needs_background": "light"
          },
          "output_type": "display_data"
        }
      ],
      "source": [
        "pyplot.plot([0, 1], [0, 1], linestyle = '--')\n",
        "auc_1 = roc_auc_score(y_test, X_test_predictions_1)\n",
        "pyplot.plot(fpr_1, tpr_1, label = f'LSTM, AUC = {auc_1:.4f}')\n",
        "auc_2 = roc_auc_score(y_test, X_test_predictions_2)\n",
        "pyplot.plot(fpr_2, tpr_2, label = f'Model-1, AUC = {auc_2:.4f}')\n",
        "auc_3 = roc_auc_score(y_test, X_test_predictions_3)\n",
        "pyplot.plot(fpr_3, tpr_3, label = f'Model-2, AUC = {auc_3:.4f}')\n",
        "plt.legend(loc = 4)\n",
        "plt.ylabel('True Positive Rate')\n",
        "plt.xlabel('False Positive Rate')\n",
        "plt.savefig('roc_b.pdf')\n",
        "pyplot.show()"
      ]
    }
  ],
  "metadata": {
    "kernelspec": {
      "display_name": "Python 3",
      "language": "python",
      "name": "python3"
    },
    "language_info": {
      "codemirror_mode": {
        "name": "ipython",
        "version": 3
      },
      "file_extension": ".py",
      "mimetype": "text/x-python",
      "name": "python",
      "nbconvert_exporter": "python",
      "pygments_lexer": "ipython3",
      "version": "3.7.4"
    },
    "colab": {
      "name": "Models_Comparison_Balanced_Dataset.ipynb",
      "provenance": []
    }
  },
  "nbformat": 4,
  "nbformat_minor": 0
}