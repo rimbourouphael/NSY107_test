{
  "cells": [
    {
      "cell_type": "markdown",
      "metadata": {
        "id": "view-in-github",
        "colab_type": "text"
      },
      "source": [
        "<a href=\"https://colab.research.google.com/github/rimbourouphael/NSY107_test/blob/main/Copy_of_LSTM_Balanced_Dataset.ipynb\" target=\"_parent\"><img src=\"https://colab.research.google.com/assets/colab-badge.svg\" alt=\"Open In Colab\"/></a>"
      ]
    },
    {
      "cell_type": "markdown",
      "metadata": {
        "id": "HObcd9Fub7v2"
      },
      "source": [
        "### Long-Short Term Memory (LSTM) Network\n",
        "\n",
        "This code is part our research on malware detection and classification using Deep Learning and Deep Graph Convolutional Neural Networks.\n",
        "\n",
        "For more information or citation, please refer to our research paper:\n",
        "\n",
        "\"Oliveira, Angelo; Sassi, Renato José (2019): Behavioral Malware Detection Using Deep Graph Convolutional Neural Networks. TechRxiv. Preprint.\" at https://doi.org/10.36227/techrxiv.10043099.v1\n",
        "\n",
        "For the dataset, please refer to our repository:\n",
        "\n",
        "https://ieee-dataport.org/open-access/malware-analysis-datasets-api-call-sequences\n",
        "\n",
        "#### Balanced Dataset"
      ]
    },
    {
      "cell_type": "code",
      "source": [
        "!pip install skorch"
      ],
      "metadata": {
        "colab": {
          "base_uri": "https://localhost:8080/"
        },
        "id": "53Kx3wbKcgbs",
        "outputId": "0d3c6f4b-ff96-46ff-90e3-ce9ea201e740"
      },
      "execution_count": null,
      "outputs": [
        {
          "output_type": "stream",
          "name": "stdout",
          "text": [
            "Looking in indexes: https://pypi.org/simple, https://us-python.pkg.dev/colab-wheels/public/simple/\n",
            "Collecting skorch\n",
            "  Downloading skorch-0.11.0-py3-none-any.whl (155 kB)\n",
            "\u001b[K     |████████████████████████████████| 155 kB 31.5 MB/s \n",
            "\u001b[?25hRequirement already satisfied: scipy>=1.1.0 in /usr/local/lib/python3.7/dist-packages (from skorch) (1.4.1)\n",
            "Requirement already satisfied: tabulate>=0.7.7 in /usr/local/lib/python3.7/dist-packages (from skorch) (0.8.9)\n",
            "Requirement already satisfied: numpy>=1.13.3 in /usr/local/lib/python3.7/dist-packages (from skorch) (1.21.6)\n",
            "Requirement already satisfied: scikit-learn>=0.19.1 in /usr/local/lib/python3.7/dist-packages (from skorch) (1.0.2)\n",
            "Requirement already satisfied: tqdm>=4.14.0 in /usr/local/lib/python3.7/dist-packages (from skorch) (4.64.0)\n",
            "Requirement already satisfied: threadpoolctl>=2.0.0 in /usr/local/lib/python3.7/dist-packages (from scikit-learn>=0.19.1->skorch) (3.1.0)\n",
            "Requirement already satisfied: joblib>=0.11 in /usr/local/lib/python3.7/dist-packages (from scikit-learn>=0.19.1->skorch) (1.1.0)\n",
            "Installing collected packages: skorch\n",
            "Successfully installed skorch-0.11.0\n"
          ]
        }
      ]
    },
    {
      "cell_type": "code",
      "execution_count": null,
      "metadata": {
        "id": "4NvuSQlMb7v_"
      },
      "outputs": [],
      "source": [
        "import numpy as np\n",
        "SEED = 137\n",
        "np.random.seed(SEED)\n",
        "\n",
        "import time\n",
        "from collections import Counter\n",
        "\n",
        "import pandas as pd\n",
        "\n",
        "from sklearn.model_selection import train_test_split, GridSearchCV, StratifiedKFold\n",
        "from sklearn.metrics import accuracy_score, recall_score, confusion_matrix\n",
        "from sklearn.metrics import precision_score, f1_score, roc_auc_score\n",
        "\n",
        "from imblearn.under_sampling import RandomUnderSampler\n",
        "from imblearn.pipeline import Pipeline\n",
        "\n",
        "import torch\n",
        "torch.manual_seed(SEED)\n",
        "import torch.nn as nn\n",
        "import torch.nn.functional as F\n",
        "\n",
        "from skorch.classifier import NeuralNetBinaryClassifier"
      ]
    },
    {
      "cell_type": "markdown",
      "metadata": {
        "id": "aF2VlWnjb7wA"
      },
      "source": [
        "### Data Preprocessing"
      ]
    },
    {
      "cell_type": "code",
      "execution_count": null,
      "metadata": {
        "id": "q9NEKoSZb7wA",
        "outputId": "24ed4a02-eb01-4f49-f076-4131fc2554aa",
        "colab": {
          "base_uri": "https://localhost:8080/",
          "height": 130
        }
      },
      "outputs": [
        {
          "output_type": "error",
          "ename": "SyntaxError",
          "evalue": "ignored",
          "traceback": [
            "\u001b[0;36m  File \u001b[0;32m\"<ipython-input-5-b012e3627f20>\"\u001b[0;36m, line \u001b[0;32m1\u001b[0m\n\u001b[0;31m    df = pd.read_csv('C:\\Users\\rimbo\\OneDrive\\Desktop\\Rim\\dynamic_api_call_sequence_per_malware_100_0_306.csv')\u001b[0m\n\u001b[0m                    ^\u001b[0m\n\u001b[0;31mSyntaxError\u001b[0m\u001b[0;31m:\u001b[0m (unicode error) 'unicodeescape' codec can't decode bytes in position 2-3: truncated \\UXXXXXXXX escape\n"
          ]
        }
      ],
      "source": [
        "df = pd.read_csv('C:\\Users\\rimbo\\OneDrive\\Desktop\\Rim\\dynamic_api_call_sequence_per_malware_100_0_306.csv')\n",
        "df.head()"
      ]
    },
    {
      "cell_type": "code",
      "execution_count": null,
      "metadata": {
        "id": "3d7NC9Jwb7wB",
        "outputId": "605380f1-af55-4569-962e-0d83c55e0904"
      },
      "outputs": [
        {
          "name": "stdout",
          "output_type": "stream",
          "text": [
            "<class 'pandas.core.frame.DataFrame'>\n",
            "RangeIndex: 43876 entries, 0 to 43875\n",
            "Columns: 102 entries, hash to malware\n",
            "dtypes: int64(101), object(1)\n",
            "memory usage: 34.1+ MB\n"
          ]
        }
      ],
      "source": [
        "df.info()"
      ]
    },
    {
      "cell_type": "code",
      "execution_count": null,
      "metadata": {
        "id": "pmT_1oXIb7wB",
        "outputId": "0b72b535-a49c-4ff5-f006-04e50706ef53"
      },
      "outputs": [
        {
          "name": "stdout",
          "output_type": "stream",
          "text": [
            "(43876, 100)\n",
            "(43876,)\n"
          ]
        }
      ],
      "source": [
        "X = df.drop(['hash', 'malware'], axis = 1).values.astype(int)\n",
        "y = df['malware'].values.astype(int)\n",
        "print(X.shape)\n",
        "print(y.shape)"
      ]
    },
    {
      "cell_type": "code",
      "execution_count": null,
      "metadata": {
        "id": "EAUYngplb7wC",
        "outputId": "da8d7d78-e362-4f42-bfd2-52d14bd74345"
      },
      "outputs": [
        {
          "name": "stdout",
          "output_type": "stream",
          "text": [
            "0\n",
            "306\n"
          ]
        }
      ],
      "source": [
        "print(X.min())\n",
        "print(X.max())"
      ]
    },
    {
      "cell_type": "code",
      "execution_count": null,
      "metadata": {
        "id": "UZC9Oet8b7wC"
      },
      "outputs": [],
      "source": [
        "def check_imbalance(dataset):\n",
        "    count = sorted(Counter(dataset).items())\n",
        "    print(count)\n",
        "    print(count[1][1] / count[0][1])\n",
        "    return"
      ]
    },
    {
      "cell_type": "code",
      "execution_count": null,
      "metadata": {
        "id": "YlcdfoHDb7wC",
        "outputId": "46e95974-d1dd-4c3a-b05e-829e358f71ab"
      },
      "outputs": [
        {
          "name": "stdout",
          "output_type": "stream",
          "text": [
            "[(0, 1079), (1, 1079)]\n",
            "1.0\n"
          ]
        }
      ],
      "source": [
        "random_undersampler = RandomUnderSampler(random_state = SEED)\n",
        "\n",
        "X, y = random_undersampler.fit_resample(X, y)\n",
        "\n",
        "check_imbalance(y)"
      ]
    },
    {
      "cell_type": "code",
      "execution_count": null,
      "metadata": {
        "id": "1AuCy-DXb7wD",
        "outputId": "3d14fcae-daca-4af7-c280-7860b5078abf"
      },
      "outputs": [
        {
          "name": "stdout",
          "output_type": "stream",
          "text": [
            "[(0, 1079), (1, 1079)]\n",
            "1.0\n"
          ]
        }
      ],
      "source": [
        "check_imbalance(y)"
      ]
    },
    {
      "cell_type": "code",
      "execution_count": null,
      "metadata": {
        "id": "MEWwTg3Zb7wE"
      },
      "outputs": [],
      "source": [
        "X_train, X_test, y_train, y_test = train_test_split(X, y, test_size = 0.3, random_state = SEED)"
      ]
    },
    {
      "cell_type": "code",
      "execution_count": null,
      "metadata": {
        "id": "GbuR7bIeb7wF",
        "outputId": "045f21c2-306c-4529-8a94-5154e083d39a"
      },
      "outputs": [
        {
          "name": "stdout",
          "output_type": "stream",
          "text": [
            "[(0, 738), (1, 772)]\n",
            "1.046070460704607\n",
            "[(0, 341), (1, 307)]\n",
            "0.9002932551319648\n"
          ]
        }
      ],
      "source": [
        "check_imbalance(y_train)\n",
        "check_imbalance(y_test)\n",
        "\n",
        "del df, X, y"
      ]
    },
    {
      "cell_type": "markdown",
      "metadata": {
        "id": "6MW_PX_rb7wG"
      },
      "source": [
        "### Architecture"
      ]
    },
    {
      "cell_type": "code",
      "execution_count": null,
      "metadata": {
        "id": "g7NmlkZzb7wG",
        "outputId": "1dea4b57-0b03-46b8-ebfe-f51244be68d1"
      },
      "outputs": [
        {
          "name": "stdout",
          "output_type": "stream",
          "text": [
            "LSTM_network(\n",
            "  (lstm): LSTM(307, 10, batch_first=True)\n",
            "  (dropout): Dropout(p=0.4, inplace=False)\n",
            "  (fc): Linear(in_features=10, out_features=1, bias=True)\n",
            ")\n",
            "\n",
            "Parameters: 12771\n"
          ]
        }
      ],
      "source": [
        "class LSTM_network(nn.Module):\n",
        "    \n",
        "    def __init__(self, input_dim, hidden_dim, dropout_rate):\n",
        "        \n",
        "        super(LSTM_network, self).__init__()\n",
        "        \n",
        "        self.input_dim = input_dim\n",
        "        self.hidden_dim = hidden_dim\n",
        "        self.dropout_rate = dropout_rate\n",
        "        \n",
        "        self.lstm = nn.LSTM(self.input_dim, self.hidden_dim, batch_first = True)\n",
        "        self.dropout = nn.Dropout(p = self.dropout_rate)\n",
        "        self.fc = nn.Linear(self.hidden_dim, 1)\n",
        "        \n",
        "    def forward(self, X):\n",
        "        \n",
        "        X = F.one_hot(X, num_classes = self.input_dim).float().cuda()\n",
        "        \n",
        "        # Hidden layer shape: (num_layers, batch_size, hidden_dim)\n",
        "        hidden_0 = (torch.zeros(1, X.size(0), self.hidden_dim).float().cuda(),\n",
        "                    torch.zeros(1, X.size(0), self.hidden_dim).float().cuda())\n",
        "        \n",
        "        # Input/Output shape: (batch_size, seq_len, input_dim)\n",
        "        _, self.hidden = self.lstm(X, hidden_0)\n",
        "                \n",
        "        H = self.hidden[0].squeeze()\n",
        "        H = self.dropout(H)\n",
        "        H = self.fc(H)\n",
        "                \n",
        "        return H.squeeze()\n",
        "\n",
        "model = LSTM_network(\n",
        "    input_dim = 307,\n",
        "    hidden_dim = 10,\n",
        "    dropout_rate = 0.4\n",
        ")\n",
        "\n",
        "print(model)\n",
        "print(f'\\nParameters: {np.sum([param.numel() for param in model.parameters()])}')\n",
        "del model"
      ]
    },
    {
      "cell_type": "markdown",
      "metadata": {
        "id": "8DeujO_ib7wH"
      },
      "source": [
        "### Hyperparameter Optimization"
      ]
    },
    {
      "cell_type": "code",
      "execution_count": null,
      "metadata": {
        "scrolled": true,
        "id": "Q_5VhpqVb7wH"
      },
      "outputs": [],
      "source": [
        "start_training = time.time()\n",
        "\n",
        "torch.manual_seed(SEED)\n",
        "\n",
        "input_dim = 307\n",
        "\n",
        "net = NeuralNetBinaryClassifier(\n",
        "    LSTM_network,\n",
        "    module__input_dim = input_dim,\n",
        "    module__hidden_dim = 10,\n",
        "    module__dropout_rate = 0.4,\n",
        "    batch_size = 32,\n",
        "    max_epochs = 10,\n",
        "    train_split = None,\n",
        "    optimizer = torch.optim.Adam,\n",
        "    iterator_train__shuffle = True,\n",
        "    device = 'cuda'\n",
        ")\n",
        "\n",
        "pipe = Pipeline([\n",
        "    ('net', net)\n",
        "])\n",
        "\n",
        "params = {\n",
        "    'net__module__hidden_dim' : [10, 40, 70, 100],\n",
        "    'net__module__dropout_rate' : [0.4, 0.5, 0.6],\n",
        "    'net__batch_size' : [32, 64, 128],\n",
        "    'net__max_epochs' : [10, 20, 30]\n",
        "}\n",
        "\n",
        "gs = GridSearchCV(\n",
        "    pipe,\n",
        "    params,\n",
        "    refit = False,\n",
        "    cv = StratifiedKFold(n_splits = 5, random_state = SEED, shuffle = True),\n",
        "    scoring = lambda net_gs, X_gs, y_gs : roc_auc_score(y_gs, net_gs.predict_proba(X_gs)),\n",
        "    verbose = 2\n",
        ")\n",
        "\n",
        "gs.fit(X_train, y_train.astype(np.float))\n",
        "\n",
        "print(gs.best_score_, gs.best_params_)\n",
        "\n",
        "end_training = (time.time() - start_training) / 60\n",
        "\n",
        "print(f'\\nDone! Time: {end_training:.2f} min')"
      ]
    },
    {
      "cell_type": "markdown",
      "metadata": {
        "id": "hD_CFbfNb7wI"
      },
      "source": [
        "#### Best configuration:\n",
        "\n",
        "0.9404987294237913 {'net__batch_size': 32, 'net__max_epochs': 30, 'net__module__dropout_rate': 0.4, 'net__module__hidden_dim': 10}"
      ]
    },
    {
      "cell_type": "markdown",
      "metadata": {
        "id": "x31qdBYPb7wI"
      },
      "source": [
        "### Training"
      ]
    },
    {
      "cell_type": "code",
      "execution_count": null,
      "metadata": {
        "id": "5gDw6tS0b7wI",
        "outputId": "a1f7cf23-fa16-4207-cbb8-02b1494f0c6a"
      },
      "outputs": [
        {
          "name": "stdout",
          "output_type": "stream",
          "text": [
            "  epoch    train_loss     dur\n",
            "-------  ------------  ------\n",
            "      1        \u001b[36m0.6664\u001b[0m  0.4579\n",
            "      2        \u001b[36m0.5257\u001b[0m  0.1993\n",
            "      3        \u001b[36m0.4366\u001b[0m  0.1719\n",
            "      4        \u001b[36m0.4106\u001b[0m  0.1722\n",
            "      5        \u001b[36m0.3575\u001b[0m  0.1737\n",
            "      6        \u001b[36m0.3386\u001b[0m  0.2183\n",
            "      7        \u001b[36m0.3072\u001b[0m  0.1774\n",
            "      8        0.3523  0.1717\n",
            "      9        0.3200  0.1784\n",
            "     10        0.6659  0.1823\n",
            "     11        0.3816  0.1814\n",
            "     12        0.3830  0.1776\n",
            "     13        0.3078  0.1760\n",
            "     14        \u001b[36m0.2816\u001b[0m  0.1780\n",
            "     15        \u001b[36m0.2746\u001b[0m  0.1738\n",
            "     16        \u001b[36m0.2595\u001b[0m  0.1703\n",
            "     17        \u001b[36m0.2463\u001b[0m  0.1694\n",
            "     18        \u001b[36m0.2186\u001b[0m  0.1709\n",
            "     19        \u001b[36m0.2099\u001b[0m  0.1726\n",
            "     20        \u001b[36m0.1955\u001b[0m  0.1740\n",
            "     21        \u001b[36m0.1932\u001b[0m  0.1733\n",
            "     22        0.2224  0.1695\n",
            "     23        0.1950  0.1806\n",
            "     24        \u001b[36m0.1703\u001b[0m  0.2185\n",
            "     25        \u001b[36m0.1659\u001b[0m  0.1912\n",
            "     26        \u001b[36m0.1553\u001b[0m  0.1806\n",
            "     27        \u001b[36m0.1501\u001b[0m  0.1779\n",
            "     28        \u001b[36m0.1463\u001b[0m  0.1971\n",
            "     29        0.1568  0.2024\n",
            "     30        \u001b[36m0.1236\u001b[0m  0.1706\n"
          ]
        },
        {
          "data": {
            "text/plain": [
              "Pipeline(memory=None,\n",
              "         steps=[('net',\n",
              "                 <class 'skorch.classifier.NeuralNetBinaryClassifier'>[initialized](\n",
              "  module_=LSTM_network(\n",
              "    (lstm): LSTM(307, 10, batch_first=True)\n",
              "    (dropout): Dropout(p=0.4, inplace=False)\n",
              "    (fc): Linear(in_features=10, out_features=1, bias=True)\n",
              "  ),\n",
              "))],\n",
              "         verbose=False)"
            ]
          },
          "execution_count": 12,
          "metadata": {},
          "output_type": "execute_result"
        }
      ],
      "source": [
        "torch.manual_seed(SEED)\n",
        "\n",
        "# hidden_dim = gs.best_params_['net__module__hidden_dim']\n",
        "# dropout_rate = gs.best_params_['net__module__dropout_rate']\n",
        "# batch_size = gs.best_params_['net__batch_size']\n",
        "# max_epochs = gs.best_params_['net__max_epochs']\n",
        "\n",
        "input_dim = 307\n",
        "hidden_dim = 10\n",
        "dropout_rate = 0.4\n",
        "batch_size = 32\n",
        "max_epochs = 30\n",
        "\n",
        "net = NeuralNetBinaryClassifier(\n",
        "    LSTM_network,\n",
        "    module__input_dim = input_dim,\n",
        "    module__hidden_dim = hidden_dim,\n",
        "    module__dropout_rate = dropout_rate,\n",
        "    batch_size = batch_size,\n",
        "    max_epochs = max_epochs,\n",
        "    train_split = None,\n",
        "    optimizer = torch.optim.Adam,\n",
        "    iterator_train__shuffle = True,\n",
        "    device = 'cuda'\n",
        ")\n",
        "\n",
        "pipe = Pipeline([\n",
        "    ('net', net)\n",
        "])\n",
        "\n",
        "pipe.fit(X_train, y_train.astype(np.float))"
      ]
    },
    {
      "cell_type": "markdown",
      "metadata": {
        "id": "Iwn3vdjzb7wJ"
      },
      "source": [
        "### Evaluation"
      ]
    },
    {
      "cell_type": "code",
      "execution_count": null,
      "metadata": {
        "id": "fzxw8B1-b7wJ"
      },
      "outputs": [],
      "source": [
        "def model_evaluate(y, pred):\n",
        "    print('Confusion matrix\\n[TN FP]\\n[FN TP]')\n",
        "    print(confusion_matrix(y >= 0.5, pred >= 0.5))\n",
        "    print(f'Accuracy: {accuracy_score(y >= 0.5, pred >= 0.5):.4f}')\n",
        "    print(f'Precision: {precision_score(y >= 0.5, pred >= 0.5):.4f}')\n",
        "    print(f'Recall: {recall_score(y >= 0.5, pred >= 0.5):.4f}')\n",
        "    print(f'F1-Score: {f1_score(y >= 0.5, pred >= 0.5):.4f}')\n",
        "    print(f'ROC AUC: {roc_auc_score(y, pred):.4f}')\n",
        "    return"
      ]
    },
    {
      "cell_type": "code",
      "execution_count": null,
      "metadata": {
        "id": "KY_d3Ketb7wK",
        "outputId": "febbceab-2e72-4fce-ede4-fa73da082998"
      },
      "outputs": [
        {
          "name": "stdout",
          "output_type": "stream",
          "text": [
            "Confusion matrix\n",
            "[TN FP]\n",
            "[FN TP]\n",
            "[[  0 341]\n",
            " [  0 307]]\n",
            "Accuracy: 0.4738\n",
            "Precision: 0.4738\n",
            "Recall: 1.0000\n",
            "F1-Score: 0.6429\n",
            "ROC AUC: 0.5000\n"
          ]
        }
      ],
      "source": [
        "model_evaluate(y_test, np.ones(len(y_test)))"
      ]
    },
    {
      "cell_type": "code",
      "execution_count": null,
      "metadata": {
        "scrolled": true,
        "id": "lcZPSDbmb7wK",
        "outputId": "08b39531-c3c9-48c5-8350-9521a634c5b1"
      },
      "outputs": [
        {
          "name": "stdout",
          "output_type": "stream",
          "text": [
            "Confusion matrix\n",
            "[TN FP]\n",
            "[FN TP]\n",
            "[[288  53]\n",
            " [ 45 262]]\n",
            "Accuracy: 0.8488\n",
            "Precision: 0.8317\n",
            "Recall: 0.8534\n",
            "F1-Score: 0.8424\n",
            "ROC AUC: 0.9270\n"
          ]
        }
      ],
      "source": [
        "model_evaluate(y_test, pipe.predict_proba(X_test))"
      ]
    },
    {
      "cell_type": "code",
      "execution_count": null,
      "metadata": {
        "id": "cDljFUdXb7wL",
        "outputId": "ec08969e-e337-4800-8c0c-92d0bd5d5ad8"
      },
      "outputs": [
        {
          "data": {
            "application/javascript": [
              "IPython.notebook.save_notebook()\n"
            ],
            "text/plain": [
              "<IPython.core.display.Javascript object>"
            ]
          },
          "metadata": {},
          "output_type": "display_data"
        }
      ],
      "source": [
        "%%javascript\n",
        "IPython.notebook.save_notebook()"
      ]
    }
  ],
  "metadata": {
    "kernelspec": {
      "display_name": "Python 3",
      "language": "python",
      "name": "python3"
    },
    "language_info": {
      "codemirror_mode": {
        "name": "ipython",
        "version": 3
      },
      "file_extension": ".py",
      "mimetype": "text/x-python",
      "name": "python",
      "nbconvert_exporter": "python",
      "pygments_lexer": "ipython3",
      "version": "3.7.4"
    },
    "colab": {
      "name": "Copy of LSTM_Balanced_Dataset.ipynb",
      "provenance": [],
      "include_colab_link": true
    }
  },
  "nbformat": 4,
  "nbformat_minor": 0
}