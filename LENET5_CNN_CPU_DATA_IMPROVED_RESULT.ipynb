{
  "nbformat": 4,
  "nbformat_minor": 0,
  "metadata": {
    "colab": {
      "name": "LENET5_CNN_CPU_DATA_IMPROVED_RESULT.ipynb",
      "provenance": [],
      "collapsed_sections": []
    },
    "kernelspec": {
      "name": "python3",
      "display_name": "Python 3"
    }
  },
  "cells": [
    {
      "cell_type": "code",
      "metadata": {
        "id": "ZrOLTX5ONdyO"
      },
      "source": [
        "import os\n",
        "#linear algebra\n",
        "import numpy as np \n",
        "#data processing, CSV file I/O (e.g. pd.read_csv)\n",
        "import pandas as pd \n",
        "import keras \n",
        "from keras.models import Sequential\n",
        "from keras.layers import Conv2D, Dense, MaxPool2D, Dropout, Flatten\n",
        "from keras.optimizers import Adam\n",
        "from keras.preprocessing.image import ImageDataGenerator\n",
        "from keras.callbacks import ReduceLROnPlateau\n",
        "from sklearn.model_selection import train_test_split\n",
        "import matplotlib.pyplot as plt\n",
        "import seaborn as sns"
      ],
      "execution_count": null,
      "outputs": []
    },
    {
      "cell_type": "code",
      "metadata": {
        "id": "Hblgj_M3NhVb",
        "colab": {
          "base_uri": "https://localhost:8080/"
        },
        "outputId": "4f7b9756-8027-4d86-b07e-8e2320ab8973"
      },
      "source": [
        "traindata = pd.read_csv('/content/sample_data/CPU_INFO.csv')\n",
        "traindata.shape"
      ],
      "execution_count": null,
      "outputs": [
        {
          "output_type": "execute_result",
          "data": {
            "text/plain": [
              "(26679, 10)"
            ]
          },
          "metadata": {
            "tags": []
          },
          "execution_count": 2
        }
      ]
    },
    {
      "cell_type": "code",
      "metadata": {
        "id": "rNVEs_yrNr2O"
      },
      "source": [
        "X_train = traindata.iloc[:,0:9]\n",
        "Y_train = traindata.iloc[:,9]\n",
        "# print(traindata.dtypes)\n",
        "# print(X_train.head)\n",
        "# print(Y_train.head)"
      ],
      "execution_count": null,
      "outputs": []
    },
    {
      "cell_type": "code",
      "metadata": {
        "id": "HxxTUw5_OLWX"
      },
      "source": [
        "import sklearn\n",
        "from sklearn.model_selection import train_test_split\n",
        "\n",
        "x_train, x_test, y_train, y_test = train_test_split(X_train, Y_train, test_size=0.3,\n",
        "                                                    shuffle=True, random_state=201)"
      ],
      "execution_count": null,
      "outputs": []
    },
    {
      "cell_type": "code",
      "metadata": {
        "id": "bjeH9djcOR_x",
        "colab": {
          "base_uri": "https://localhost:8080/"
        },
        "outputId": "f152373c-1d9c-43c4-842d-168893e85a83"
      },
      "source": [
        "print(x_train.shape)\n",
        "print(x_test.shape)\n",
        "print(y_train.shape)\n",
        "print(y_test.shape)"
      ],
      "execution_count": null,
      "outputs": [
        {
          "output_type": "stream",
          "text": [
            "(18675, 9)\n",
            "(8004, 9)\n",
            "(18675,)\n",
            "(8004,)\n"
          ],
          "name": "stdout"
        }
      ]
    },
    {
      "cell_type": "code",
      "metadata": {
        "id": "mtC3vYi_OXgk",
        "colab": {
          "base_uri": "https://localhost:8080/"
        },
        "outputId": "8bba11f3-24d2-4db4-b04a-9bfd16a5791e"
      },
      "source": [
        "x_train = np.array(x_train,ndmin = 4)\n",
        "x_test = np.array(x_test,ndmin = 4)\n",
        "y_train = np.array(y_train,ndmin = 4)\n",
        "y_test = np.array(y_test,ndmin = 4)\n",
        "\n",
        "print(x_train.shape)\n",
        "print(x_test.shape)\n",
        "print(y_train.shape)\n",
        "print(y_test.shape)"
      ],
      "execution_count": null,
      "outputs": [
        {
          "output_type": "stream",
          "text": [
            "(1, 1, 18675, 9)\n",
            "(1, 1, 8004, 9)\n",
            "(1, 1, 1, 18675)\n",
            "(1, 1, 1, 8004)\n"
          ],
          "name": "stdout"
        }
      ]
    },
    {
      "cell_type": "code",
      "metadata": {
        "id": "p_tLxuvaOdUz",
        "colab": {
          "base_uri": "https://localhost:8080/"
        },
        "outputId": "826eb666-5734-46b7-ece0-c8881dafb388"
      },
      "source": [
        "x_train = x_train.reshape(18675,3,3,1)\n",
        "x_test = x_test.reshape(8004,3,3,1)\n",
        "y_train = y_train.reshape(18675,1)\n",
        "y_test = y_test.reshape(8004,1)\n",
        "\n",
        "print(x_train.shape)\n",
        "print(x_test.shape)\n",
        "print(y_train.shape)\n",
        "print(y_test.shape)"
      ],
      "execution_count": null,
      "outputs": [
        {
          "output_type": "stream",
          "text": [
            "(18675, 3, 3, 1)\n",
            "(8004, 3, 3, 1)\n",
            "(18675, 1)\n",
            "(8004, 1)\n"
          ],
          "name": "stdout"
        }
      ]
    },
    {
      "cell_type": "code",
      "metadata": {
        "id": "O4S9mjJpOdYQ",
        "colab": {
          "base_uri": "https://localhost:8080/"
        },
        "outputId": "c0a165a2-14e9-43a7-9b11-0fea1444e822"
      },
      "source": [
        "#def create_model():\n",
        "model = Sequential()\n",
        "model.add(Conv2D(filters=8, kernel_size=(3,3), padding='same', activation='relu', \n",
        "                input_shape=(3, 3, 1)))\n",
        "model.add(MaxPool2D(strides=2))\n",
        "model.add(Flatten())\n",
        "model.add(Dense(12, input_shape=(1,128), activation='relu'))\n",
        "model.add(Dense(6, activation='relu'))\n",
        "model.add(Dense(1, activation='sigmoid'))\n",
        "\n",
        "#adam = Adam(lr=1e-5)\n",
        "#model.compile(loss='binary_crossentropy', metrics=['accuracy'], optimizer=adam)\n",
        "\n",
        "model.build()\n",
        "model.summary()\n",
        "\n",
        "#return model"
      ],
      "execution_count": null,
      "outputs": [
        {
          "output_type": "stream",
          "text": [
            "Model: \"sequential_35\"\n",
            "_________________________________________________________________\n",
            "Layer (type)                 Output Shape              Param #   \n",
            "=================================================================\n",
            "conv2d_35 (Conv2D)           (None, 3, 3, 8)           80        \n",
            "_________________________________________________________________\n",
            "max_pooling2d_35 (MaxPooling (None, 1, 1, 8)           0         \n",
            "_________________________________________________________________\n",
            "flatten_35 (Flatten)         (None, 8)                 0         \n",
            "_________________________________________________________________\n",
            "dense_105 (Dense)            (None, 12)                108       \n",
            "_________________________________________________________________\n",
            "dense_106 (Dense)            (None, 6)                 78        \n",
            "_________________________________________________________________\n",
            "dense_107 (Dense)            (None, 1)                 7         \n",
            "=================================================================\n",
            "Total params: 273\n",
            "Trainable params: 273\n",
            "Non-trainable params: 0\n",
            "_________________________________________________________________\n"
          ],
          "name": "stdout"
        }
      ]
    },
    {
      "cell_type": "code",
      "metadata": {
        "id": "GKRllzsnOxKZ"
      },
      "source": [
        "adam = Adam(lr=1e-5)\n",
        "model.compile(loss='binary_crossentropy', metrics=['accuracy'], optimizer=adam)"
      ],
      "execution_count": null,
      "outputs": []
    },
    {
      "cell_type": "code",
      "metadata": {
        "id": "8--z1xAWO2D6"
      },
      "source": [
        "# Set a learning rate annealer\n",
        "reduce_lr = ReduceLROnPlateau(monitor='val_acc', \n",
        "                                patience=3, \n",
        "                                verbose=1, \n",
        "                                factor=0.2, \n",
        "                                min_lr=1e-6)"
      ],
      "execution_count": null,
      "outputs": []
    },
    {
      "cell_type": "code",
      "metadata": {
        "id": "J9_pC_HvO4aN",
        "colab": {
          "base_uri": "https://localhost:8080/"
        },
        "outputId": "f0bbcd7a-9a7b-4d0e-c9ac-0b45131513bf"
      },
      "source": [
        "# model.fit(x_train, y_train, epochs=1,validation_data=(x_test, y_test),callbacks=[reduce_lr])\n",
        "model.fit(x_train, y_train, epochs=1,validation_data=(x_test, y_test))"
      ],
      "execution_count": null,
      "outputs": [
        {
          "output_type": "stream",
          "text": [
            "584/584 [==============================] - 1s 2ms/step - loss: 394171.5000 - accuracy: 0.6430 - val_loss: 290303.0000 - val_accuracy: 0.6419\n"
          ],
          "name": "stdout"
        },
        {
          "output_type": "execute_result",
          "data": {
            "text/plain": [
              "<tensorflow.python.keras.callbacks.History at 0x7efe7f2fb4a8>"
            ]
          },
          "metadata": {
            "tags": []
          },
          "execution_count": 66
        }
      ]
    },
    {
      "cell_type": "code",
      "metadata": {
        "id": "tl80OfaPO_7O",
        "colab": {
          "base_uri": "https://localhost:8080/"
        },
        "outputId": "578a37b5-c7fd-415a-ec97-a4fffc74fa56"
      },
      "source": [
        "score = model.evaluate(x_train, y_train)"
      ],
      "execution_count": null,
      "outputs": [
        {
          "output_type": "stream",
          "text": [
            "584/584 [==============================] - 0s 817us/step - loss: 289435.5312 - accuracy: 0.6430\n"
          ],
          "name": "stdout"
        }
      ]
    },
    {
      "cell_type": "code",
      "metadata": {
        "id": "-hUNeFn2PDsl",
        "colab": {
          "base_uri": "https://localhost:8080/"
        },
        "outputId": "c7dcaba6-9d83-4e93-dfc3-d054f4654b8a"
      },
      "source": [
        "score"
      ],
      "execution_count": null,
      "outputs": [
        {
          "output_type": "execute_result",
          "data": {
            "text/plain": [
              "[289435.53125, 0.6429986357688904]"
            ]
          },
          "metadata": {
            "tags": []
          },
          "execution_count": 68
        }
      ]
    },
    {
      "cell_type": "code",
      "metadata": {
        "id": "JxrQPAmJ3Qse"
      },
      "source": [
        "from sklearn.model_selection import RepeatedStratifiedKFold\n",
        "from sklearn.model_selection import RandomizedSearchCV\n",
        "\n",
        "# define evaluation\n",
        "#cv = RepeatedStratifiedKFold(n_splits=10, n_repeats=3, random_state=1)\n",
        "# define search space\n",
        "space = dict()\n",
        "space['batch_size'] = [100, 1000, 10000]\n",
        "space['epochs'] = [10, 50, 100]\n",
        "# define search\n",
        "search = RandomizedSearchCV(model, space, n_iter=50, scoring='accuracy', n_jobs=-1, cv=3, random_state=1)\n",
        "# execute search\n",
        "result = search.fit(X_train, Y_train)\n",
        "# summarize result\n",
        "print('Best Score: %s' % result.best_score_)\n",
        "print('Best Hyperparameters: %s' % result.best_params_)"
      ],
      "execution_count": null,
      "outputs": []
    },
    {
      "cell_type": "code",
      "metadata": {
        "id": "hvhDWT_1_WjA"
      },
      "source": [
        "def create_model(optimizer='adam'):\n",
        "  model = Sequential()\n",
        "  model.add(Conv2D(filters=32, kernel_size=(5,5), padding='same', activation='relu', \n",
        "                  input_shape=(3, 3, 1)))\n",
        "  model.add(MaxPool2D(strides=2))  \n",
        "  model.add(Flatten())\n",
        "  model.add(Dense(1024, input_shape=(1,128), activation='relu'))\n",
        "  model.add(Dense(512, activation='relu'))\n",
        "  model.add(Dense(1, activation='softmax'))\n",
        "  \n",
        "  model.compile(loss='binary_crossentropy', optimizer=optimizer, metrics=['accuracy'])\n",
        "  return model"
      ],
      "execution_count": null,
      "outputs": []
    },
    {
      "cell_type": "code",
      "metadata": {
        "id": "99MPKtgR_oM9"
      },
      "source": [
        "from sklearn.model_selection import RepeatedStratifiedKFold\n",
        "from sklearn.model_selection import RandomizedSearchCV\n",
        "from keras.wrappers.scikit_learn import KerasClassifier\n",
        "\n",
        "model = KerasClassifier(build_fn=create_model, verbose=0)\n",
        "# define the grid search parameters\n",
        "optimizer = ['SGD', 'RMSprop', 'Adagrad', 'Adadelta', 'Adam', 'Adamax', 'Nadam']\n",
        "param_grid = dict(optimizer=optimizer)\n",
        "# define search\n",
        "search = RandomizedSearchCV(model, param_grid, n_iter=5, scoring='accuracy', n_jobs=-1, cv=3, random_state=1)\n",
        "# execute search\n",
        "result = search.fit(x_train, y_train)\n",
        "# summarize result\n",
        "# print('Best Score: %s' % result.best_score_)\n",
        "# print('Best Hyperparameters: %s' % result.best_params_)\n",
        "\n",
        "# summarize results\n",
        "print(\"Best: %f using %s\" % (result.best_score_, result.best_params_))\n",
        "means = result.cv_results_['mean_test_score']\n",
        "stds = result.cv_results_['std_test_score']\n",
        "params = result.cv_results_['params']\n",
        "for mean, stdev, param in zip(means, stds, params):\n",
        "    print(\"%f (%f) with: %r\" % (mean, stdev, param))"
      ],
      "execution_count": null,
      "outputs": []
    },
    {
      "cell_type": "code",
      "metadata": {
        "colab": {
          "base_uri": "https://localhost:8080/"
        },
        "id": "bjviYBY6KQs9",
        "outputId": "5c758fa5-00dc-47d5-bf91-e982ddd722e0"
      },
      "source": [
        "X_train = np.array(X_train,ndmin = 4)\n",
        "Y_train = np.array(Y_train,ndmin = 4)\n",
        "\n",
        "print(X_train.shape)\n",
        "print(Y_train.shape)\n",
        "\n",
        "X_train = X_train.reshape(26679 ,3,3,1)\n",
        "Y_train = Y_train.reshape(26679 ,1)\n",
        "\n",
        "print(X_train.shape)\n",
        "print(Y_train.shape)"
      ],
      "execution_count": null,
      "outputs": [
        {
          "output_type": "stream",
          "text": [
            "(1, 1, 26679, 9)\n",
            "(1, 1, 1, 26679)\n",
            "(26679, 3, 3, 1)\n",
            "(26679, 1)\n"
          ],
          "name": "stdout"
        }
      ]
    },
    {
      "cell_type": "code",
      "metadata": {
        "colab": {
          "base_uri": "https://localhost:8080/"
        },
        "id": "KCifELn-MYQ2",
        "outputId": "337f83e7-c2dc-41d7-82b9-39a4f3b611ab"
      },
      "source": [
        "import numpy\n",
        "from sklearn.model_selection import GridSearchCV\n",
        "from keras.models import Sequential\n",
        "from keras.layers import Dense\n",
        "from keras.wrappers.scikit_learn import KerasClassifier\n",
        "from sklearn import preprocessing\n",
        "\n",
        "def create_model(optimizer='adam'):\n",
        "  model = Sequential()\n",
        "  model.add(Conv2D(filters=8, kernel_size=(3,3), padding='same', activation='relu', \n",
        "                  input_shape=(3, 3, 1)))\n",
        "  model.add(MaxPool2D(strides=2))  \n",
        "  model.add(Flatten())\n",
        "  model.add(Dense(12, input_shape=(1,128), activation='relu'))\n",
        "  model.add(Dense(6, activation='relu'))\n",
        "  model.add(Dense(1, activation='sigmoid'))  \n",
        "  model.compile(loss='binary_crossentropy', optimizer=optimizer, metrics=['accuracy'])\n",
        "  return model\n",
        "\n",
        "# create model\n",
        "model = KerasClassifier(build_fn=create_model, epochs=10, batch_size=10000, verbose=0)\n",
        "# define the grid search parameters\n",
        "optimizer = ['SGD', 'RMSprop', 'Adagrad', 'Adadelta', 'Adam', 'Adamax', 'Nadam']\n",
        "param_grid = dict(optimizer=optimizer)\n",
        "grid = GridSearchCV(estimator=model, param_grid=param_grid, n_jobs=-1, cv=3)\n",
        "grid_result = grid.fit(X_train, Y_train)\n",
        "# summarize results\n",
        "print(\"Best: %f using %s\" % (grid_result.best_score_, grid_result.best_params_))\n",
        "means = grid_result.cv_results_['mean_test_score']\n",
        "stds = grid_result.cv_results_['std_test_score']\n",
        "params = grid_result.cv_results_['params']\n",
        "for mean, stdev, param in zip(means, stds, params):\n",
        "    print(\"%f (%f) with: %r\" % (mean, stdev, param))"
      ],
      "execution_count": null,
      "outputs": [
        {
          "output_type": "stream",
          "text": [
            "Best: 0.976011 using {'optimizer': 'Nadam'}\n",
            "0.023989 (0.033925) with: {'optimizer': 'SGD'}\n",
            "0.357322 (0.455391) with: {'optimizer': 'RMSprop'}\n",
            "0.357322 (0.455391) with: {'optimizer': 'Adagrad'}\n",
            "0.357322 (0.455391) with: {'optimizer': 'Adadelta'}\n",
            "0.357322 (0.455391) with: {'optimizer': 'Adam'}\n",
            "0.357322 (0.455391) with: {'optimizer': 'Adamax'}\n",
            "0.976011 (0.033925) with: {'optimizer': 'Nadam'}\n"
          ],
          "name": "stdout"
        }
      ]
    },
    {
      "cell_type": "code",
      "metadata": {
        "colab": {
          "base_uri": "https://localhost:8080/"
        },
        "id": "seNM6MJDG-4Q",
        "outputId": "ae01cc6d-a14a-48f3-8285-100c7ea13460"
      },
      "source": [
        "# Use scikit-learn to grid search the learning rate\n",
        "import numpy\n",
        "from sklearn.model_selection import GridSearchCV\n",
        "from keras.models import Sequential\n",
        "from keras.layers import Dense\n",
        "from keras.wrappers.scikit_learn import KerasClassifier\n",
        "from keras.optimizers import Nadam\n",
        "# Function to create model, required for KerasClassifier\n",
        "def create_model(learn_rate=0.01):\n",
        "    model = Sequential()\n",
        "    model.add(Conv2D(filters=8, kernel_size=(3,3), padding='same', activation='relu', input_shape=(3, 3, 1)))\n",
        "    model.add(MaxPool2D(strides=2))  \n",
        "    model.add(Flatten())\n",
        "    model.add(Dense(12, input_shape=(1,128), activation='relu'))\n",
        "    model.add(Dense(6, activation='relu'))\n",
        "    model.add(Dense(1, activation='sigmoid'))\n",
        "    # Compile model\n",
        "    optimizer = Nadam(lr=learn_rate)\n",
        "    model.compile(loss='binary_crossentropy', optimizer=optimizer, metrics=['accuracy'])\n",
        "    return model\n",
        "\n",
        "# create model\n",
        "model = KerasClassifier(build_fn=create_model, epochs=10, batch_size=10000, verbose=0)\n",
        "# define the grid search parameters\n",
        "learn_rate = [0.001, 0.01, 0.1, 0.2, 0.3]\n",
        "momentum = [0.0, 0.2, 0.4, 0.6, 0.8, 0.9]\n",
        "param_grid = dict(learn_rate=learn_rate)\n",
        "grid = GridSearchCV(estimator=model, param_grid=param_grid, n_jobs=-1, cv=3)\n",
        "grid_result = grid.fit(X_train, Y_train)\n",
        "# summarize results\n",
        "print(\"Best: %f using %s\" % (grid_result.best_score_, grid_result.best_params_))\n",
        "means = grid_result.cv_results_['mean_test_score']\n",
        "stds = grid_result.cv_results_['std_test_score']\n",
        "params = grid_result.cv_results_['params']\n",
        "for mean, stdev, param in zip(means, stds, params):\n",
        "    print(\"%f (%f) with: %r\" % (mean, stdev, param))"
      ],
      "execution_count": null,
      "outputs": [
        {
          "output_type": "stream",
          "text": [
            "Best: 0.976011 using {'learn_rate': 0.001}\n",
            "0.976011 (0.033925) with: {'learn_rate': 0.001}\n",
            "0.642678 (0.455391) with: {'learn_rate': 0.01}\n",
            "0.309344 (0.437479) with: {'learn_rate': 0.1}\n",
            "0.309344 (0.437479) with: {'learn_rate': 0.2}\n",
            "0.023989 (0.033925) with: {'learn_rate': 0.3}\n"
          ],
          "name": "stdout"
        }
      ]
    },
    {
      "cell_type": "code",
      "metadata": {
        "colab": {
          "base_uri": "https://localhost:8080/"
        },
        "id": "kOuau6tMHx8j",
        "outputId": "6105612f-26a7-4af4-e773-f4cda90f9e2f"
      },
      "source": [
        "# Use scikit-learn to grid search the learning rate\n",
        "import numpy\n",
        "from sklearn.model_selection import GridSearchCV\n",
        "from keras.models import Sequential\n",
        "from keras.layers import Dense\n",
        "from keras.wrappers.scikit_learn import KerasClassifier\n",
        "from keras.optimizers import SGD\n",
        "# Function to create model, required for KerasClassifier\n",
        "def create_model(activation='relu'):\n",
        "    model = Sequential()\n",
        "    model.add(Conv2D(filters=8, kernel_size=(3,3), padding='same', activation=activation, \n",
        "                     input_shape=(3, 3, 1)))\n",
        "    model.add(MaxPool2D(strides=2))  \n",
        "    model.add(Flatten())\n",
        "    model.add(Dense(12, input_shape=(1,128), activation=activation))\n",
        "    model.add(Dense(6, activation=activation))\n",
        "    model.add(Dense(1, activation='sigmoid'))\n",
        "    # Compile model\n",
        "    optimizer = Nadam(lr=0.001)\n",
        "    model.compile(loss='binary_crossentropy', optimizer=optimizer, metrics=['accuracy'])\n",
        "    return model\n",
        "\n",
        "# create model\n",
        "model = KerasClassifier(build_fn=create_model, epochs=10, batch_size=10000, verbose=0)\n",
        "# define the grid search parameters\n",
        "# activation = ['softmax', 'softplus', 'softsign', 'relu', 'tanh', 'sigmoid', 'hard_sigmoid', 'linear']\n",
        "activation = ['relu', 'hard_sigmoid']\n",
        "param_grid = dict(activation=activation)\n",
        "grid = GridSearchCV(estimator=model, param_grid=param_grid, n_jobs=-1, cv=3)\n",
        "grid_result = grid.fit(X_train, Y_train)\n",
        "# summarize results\n",
        "print(\"Best: %f using %s\" % (grid_result.best_score_, grid_result.best_params_))\n",
        "means = grid_result.cv_results_['mean_test_score']\n",
        "stds = grid_result.cv_results_['std_test_score']\n",
        "params = grid_result.cv_results_['params']\n",
        "for mean, stdev, param in zip(means, stds, params):\n",
        "    print(\"%f (%f) with: %r\" % (mean, stdev, param))"
      ],
      "execution_count": null,
      "outputs": [
        {
          "output_type": "stream",
          "text": [
            "Best: 0.976011 using {'activation': 'relu'}\n",
            "0.976011 (0.033925) with: {'activation': 'relu'}\n",
            "0.976011 (0.033925) with: {'activation': 'hard_sigmoid'}\n"
          ],
          "name": "stdout"
        }
      ]
    },
    {
      "cell_type": "code",
      "metadata": {
        "colab": {
          "base_uri": "https://localhost:8080/"
        },
        "id": "8d-PVRV_akY-",
        "outputId": "3eb56f69-db5e-47fc-f732-fa3e6d6bd3c9"
      },
      "source": [
        "import numpy\n",
        "from sklearn.model_selection import GridSearchCV\n",
        "from keras.models import Sequential\n",
        "from keras.layers import Dense\n",
        "from keras.wrappers.scikit_learn import KerasClassifier\n",
        "from sklearn import preprocessing\n",
        "from keras.optimizers import SGD\n",
        "\n",
        "# Function to create model, required for KerasClassifier\n",
        "def create_model(activation='relu'):\n",
        "    model = Sequential()\n",
        "    model.add(Conv2D(filters=8, kernel_size=(3,3), padding='same', activation='relu', input_shape=(3, 3, 1)))\n",
        "    model.add(MaxPool2D(strides=2))  \n",
        "    model.add(Flatten())\n",
        "    model.add(Dense(12, input_shape=(1,128), activation='relu'))\n",
        "    model.add(Dense(6, activation='relu'))\n",
        "    model.add(Dense(1, activation=activation))\n",
        "    # Compile model\n",
        "    optimizer = Nadam(lr=0.001)\n",
        "    model.compile(loss='binary_crossentropy', optimizer=optimizer, metrics=['accuracy'])\n",
        "    return model\n",
        "# fix random seed for reproducibility\n",
        "seed = 7\n",
        "numpy.random.seed(seed)\n",
        "\n",
        "# create model\n",
        "model = KerasClassifier(build_fn=create_model, epochs=10, batch_size=10000, verbose=0)\n",
        "# define the grid search parameters\n",
        "activation = ['softmax', 'softplus', 'softsign', 'relu', 'tanh', 'sigmoid', 'hard_sigmoid', 'linear']\n",
        "param_grid = dict(activation=activation)\n",
        "grid = GridSearchCV(estimator=model, param_grid=param_grid, n_jobs=-1, cv=3)\n",
        "grid_result = grid.fit(X_train, Y_train)\n",
        "# summarize results\n",
        "print(\"Best: %f using %s\" % (grid_result.best_score_, grid_result.best_params_))\n",
        "means = grid_result.cv_results_['mean_test_score']\n",
        "stds = grid_result.cv_results_['std_test_score']\n",
        "params = grid_result.cv_results_['params']\n",
        "for mean, stdev, param in zip(means, stds, params):\n",
        "    print(\"%f (%f) with: %r\" % (mean, stdev, param))"
      ],
      "execution_count": null,
      "outputs": [
        {
          "output_type": "stream",
          "text": [
            "Best: 0.976011 using {'activation': 'tanh'}\n",
            "0.642678 (0.455391) with: {'activation': 'softmax'}\n",
            "0.357322 (0.455391) with: {'activation': 'softplus'}\n",
            "0.357322 (0.455391) with: {'activation': 'softsign'}\n",
            "0.357322 (0.455391) with: {'activation': 'relu'}\n",
            "0.976011 (0.033925) with: {'activation': 'tanh'}\n",
            "0.023989 (0.033925) with: {'activation': 'sigmoid'}\n",
            "0.642678 (0.455391) with: {'activation': 'hard_sigmoid'}\n",
            "0.642678 (0.455391) with: {'activation': 'linear'}\n"
          ],
          "name": "stdout"
        }
      ]
    },
    {
      "cell_type": "code",
      "metadata": {
        "colab": {
          "base_uri": "https://localhost:8080/"
        },
        "id": "1LuVSe7d-P5g",
        "outputId": "4592e925-9239-4e36-81d2-ccab5f68737e"
      },
      "source": [
        "# Use scikit-learn to grid search the number of neurons\n",
        "import numpy\n",
        "from sklearn.model_selection import GridSearchCV\n",
        "from keras.models import Sequential\n",
        "from keras.layers import Dense\n",
        "from keras.layers import Dropout\n",
        "from keras.wrappers.scikit_learn import KerasClassifier\n",
        "from keras.constraints import maxnorm\n",
        "from sklearn import preprocessing\n",
        "from keras.optimizers import Adam\n",
        "\n",
        "# Function to create model, required for KerasClassifier\n",
        "def create_model(neurons=1):\n",
        "    model = Sequential()\n",
        "    model.add(Conv2D(filters=8, kernel_size=(3,3), padding='same', activation='relu', input_shape=(3, 3, 1)))\n",
        "    model.add(MaxPool2D(strides=2))  \n",
        "    model.add(Flatten())\n",
        "    model.add(Dense(neurons, input_shape=(1,128), activation='relu'))\n",
        "    model.add(Dense(6, activation='relu'))\n",
        "    model.add(Dense(1, activation='tanh'))\n",
        "    # Compile model\n",
        "    optimizer = Nadam(lr=0.001)\n",
        "    model.compile(loss='binary_crossentropy', optimizer=optimizer, metrics=['accuracy'])\n",
        "    return model\n",
        "# fix random seed for reproducibility\n",
        "seed = 7\n",
        "numpy.random.seed(seed)\n",
        "\n",
        "\n",
        "# create model\n",
        "model = KerasClassifier(build_fn=create_model, epochs=10, batch_size=10000, verbose=0)\n",
        "# define the grid search parameters\n",
        "neurons = [1, 5, 10, 12, 15, 20, 25, 30, 50, 100]\n",
        "param_grid = dict(neurons=neurons)\n",
        "grid = GridSearchCV(estimator=model, param_grid=param_grid, n_jobs=-1, cv=3)\n",
        "grid_result = grid.fit(X_train, Y_train)\n",
        "# summarize results\n",
        "print(\"Best: %f using %s\" % (grid_result.best_score_, grid_result.best_params_))\n",
        "means = grid_result.cv_results_['mean_test_score']\n",
        "stds = grid_result.cv_results_['std_test_score']\n",
        "params = grid_result.cv_results_['params']\n",
        "for mean, stdev, param in zip(means, stds, params):\n",
        "    print(\"%f (%f) with: %r\" % (mean, stdev, param))"
      ],
      "execution_count": null,
      "outputs": [
        {
          "output_type": "stream",
          "text": [
            "Best: 0.976011 using {'neurons': 12}\n",
            "0.357322 (0.455391) with: {'neurons': 1}\n",
            "0.642678 (0.455391) with: {'neurons': 5}\n",
            "0.690656 (0.437479) with: {'neurons': 10}\n",
            "0.976011 (0.033925) with: {'neurons': 12}\n",
            "0.976011 (0.033925) with: {'neurons': 15}\n",
            "0.976011 (0.033925) with: {'neurons': 20}\n",
            "0.642678 (0.455391) with: {'neurons': 25}\n",
            "0.357322 (0.455391) with: {'neurons': 30}\n",
            "0.642678 (0.455391) with: {'neurons': 50}\n",
            "0.309344 (0.437479) with: {'neurons': 100}\n"
          ],
          "name": "stdout"
        }
      ]
    },
    {
      "cell_type": "code",
      "metadata": {
        "colab": {
          "base_uri": "https://localhost:8080/"
        },
        "id": "vCzIhGDbAJTZ",
        "outputId": "1a78b293-55e8-48f8-d023-e82cde094181"
      },
      "source": [
        "# Use scikit-learn to grid search the number of neurons\n",
        "import numpy\n",
        "from sklearn.model_selection import GridSearchCV\n",
        "from keras.models import Sequential\n",
        "from keras.layers import Dense\n",
        "from keras.layers import Dropout\n",
        "from keras.wrappers.scikit_learn import KerasClassifier\n",
        "from keras.constraints import maxnorm\n",
        "from sklearn import preprocessing\n",
        "from keras.optimizers import Adam\n",
        "\n",
        "# Function to create model, required for KerasClassifier\n",
        "def create_model(neurons=1):\n",
        "    model = Sequential()\n",
        "    model.add(Conv2D(filters=8, kernel_size=(3,3), padding='same', activation='relu', input_shape=(3, 3, 1)))\n",
        "    model.add(MaxPool2D(strides=2))  \n",
        "    model.add(Flatten())\n",
        "    model.add(Dense(12, input_shape=(1,128), activation='relu'))\n",
        "    model.add(Dense(neurons, activation='relu'))\n",
        "    model.add(Dense(1, activation='tanh'))\n",
        "    # Compile model\n",
        "    optimizer = Nadam(lr=0.001)\n",
        "    model.compile(loss='binary_crossentropy', optimizer=optimizer, metrics=['accuracy'])\n",
        "    return model\n",
        "# fix random seed for reproducibility\n",
        "seed = 7\n",
        "numpy.random.seed(seed)\n",
        "\n",
        "# create model\n",
        "model = KerasClassifier(build_fn=create_model, epochs=10, batch_size=10000, verbose=0)\n",
        "# define the grid search parameters\n",
        "neurons = [1, 5, 6, 10, 12, 15, 20, 25, 30, 50, 100]\n",
        "param_grid = dict(neurons=neurons)\n",
        "grid = GridSearchCV(estimator=model, param_grid=param_grid, n_jobs=-1, cv=3)\n",
        "grid_result = grid.fit(X_train, Y_train)\n",
        "# summarize results\n",
        "print(\"Best: %f using %s\" % (grid_result.best_score_, grid_result.best_params_))\n",
        "means = grid_result.cv_results_['mean_test_score']\n",
        "stds = grid_result.cv_results_['std_test_score']\n",
        "params = grid_result.cv_results_['params']\n",
        "for mean, stdev, param in zip(means, stds, params):\n",
        "    print(\"%f (%f) with: %r\" % (mean, stdev, param))"
      ],
      "execution_count": null,
      "outputs": [
        {
          "output_type": "stream",
          "text": [
            "Best: 0.976011 using {'neurons': 6}\n",
            "0.023989 (0.033925) with: {'neurons': 1}\n",
            "0.642678 (0.455391) with: {'neurons': 5}\n",
            "0.976011 (0.033925) with: {'neurons': 6}\n",
            "0.642678 (0.455391) with: {'neurons': 10}\n",
            "0.642678 (0.455391) with: {'neurons': 12}\n",
            "0.976011 (0.033925) with: {'neurons': 15}\n",
            "0.309344 (0.437479) with: {'neurons': 20}\n",
            "0.357322 (0.455391) with: {'neurons': 25}\n",
            "0.690656 (0.437479) with: {'neurons': 30}\n",
            "0.642678 (0.455391) with: {'neurons': 50}\n",
            "0.357322 (0.455391) with: {'neurons': 100}\n"
          ],
          "name": "stdout"
        }
      ]
    },
    {
      "cell_type": "code",
      "metadata": {
        "colab": {
          "base_uri": "https://localhost:8080/"
        },
        "id": "gEsFubALOo5w",
        "outputId": "fd2245ed-db35-4afa-95b1-bba2955f381e"
      },
      "source": [
        "# Use scikit-learn to grid search the number of neurons\n",
        "import numpy\n",
        "from sklearn.model_selection import GridSearchCV\n",
        "from keras.models import Sequential\n",
        "from keras.layers import Dense\n",
        "from keras.layers import Dropout\n",
        "from keras.wrappers.scikit_learn import KerasClassifier\n",
        "from keras.constraints import maxnorm\n",
        "from sklearn import preprocessing\n",
        "from keras.optimizers import Nadam\n",
        "\n",
        "# Function to create model, required for KerasClassifier\n",
        "def create_model(neurons=1):\n",
        "    model = Sequential()\n",
        "    model.add(Conv2D(filters=8, kernel_size=(3,3), padding='same', activation='relu', input_shape=(3, 3, 1)))\n",
        "    model.add(MaxPool2D(strides=2))  \n",
        "    model.add(Flatten())\n",
        "    model.add(Dense(12, input_shape=(1,128), activation='relu'))\n",
        "    model.add(Dense(neurons, activation='relu'))\n",
        "    model.add(Dense(1, activation='tanh'))\n",
        "    # Compile model\n",
        "    optimizer = Nadam(lr=0.001)\n",
        "    model.compile(loss='binary_crossentropy', optimizer=optimizer, metrics=['accuracy'])\n",
        "    return model\n",
        "# fix random seed for reproducibility\n",
        "seed = 7\n",
        "numpy.random.seed(seed)\n",
        "\n",
        "# create model\n",
        "model = KerasClassifier(build_fn=create_model, epochs=10, batch_size=10000, verbose=0)\n",
        "# define the grid search parameters\n",
        "neurons = [1, 5, 6, 10]\n",
        "param_grid = dict(neurons=neurons)\n",
        "grid = GridSearchCV(estimator=model, param_grid=param_grid, n_jobs=-1, cv=3)\n",
        "grid_result = grid.fit(X_train, Y_train)\n",
        "# summarize results\n",
        "print(\"Best: %f using %s\" % (grid_result.best_score_, grid_result.best_params_))\n",
        "means = grid_result.cv_results_['mean_test_score']\n",
        "stds = grid_result.cv_results_['std_test_score']\n",
        "params = grid_result.cv_results_['params']\n",
        "for mean, stdev, param in zip(means, stds, params):\n",
        "    print(\"%f (%f) with: %r\" % (mean, stdev, param))"
      ],
      "execution_count": null,
      "outputs": [
        {
          "output_type": "stream",
          "text": [
            "Best: 0.976011 using {'neurons': 6}\n",
            "0.023989 (0.033925) with: {'neurons': 1}\n",
            "0.642678 (0.455391) with: {'neurons': 5}\n",
            "0.976011 (0.033925) with: {'neurons': 6}\n",
            "0.357322 (0.455391) with: {'neurons': 10}\n"
          ],
          "name": "stdout"
        }
      ]
    },
    {
      "cell_type": "code",
      "metadata": {
        "colab": {
          "base_uri": "https://localhost:8080/"
        },
        "id": "fsNtSvMbP-nt",
        "outputId": "a8ae2073-e72a-4d70-fd41-9f310c241785"
      },
      "source": [
        "# Use scikit-learn to grid search the number of neurons\n",
        "import numpy\n",
        "from sklearn.model_selection import GridSearchCV\n",
        "from keras.models import Sequential\n",
        "from keras.layers import Dense\n",
        "from keras.layers import Dropout\n",
        "from keras.wrappers.scikit_learn import KerasClassifier\n",
        "from keras.constraints import maxnorm\n",
        "from sklearn import preprocessing\n",
        "from keras.optimizers import Nadam\n",
        "\n",
        "from sklearn.metrics import precision_score, make_scorer\n",
        "precision = make_scorer(precision_score , average='weighted')  \n",
        "\n",
        "# Function to create model, required for KerasClassifier\n",
        "def create_model(neurons=1):\n",
        "    model = Sequential()\n",
        "    model.add(Conv2D(filters=8, kernel_size=(3,3), padding='same', activation='relu', input_shape=(3, 3, 1)))\n",
        "    model.add(MaxPool2D(strides=2))  \n",
        "    model.add(Flatten())\n",
        "    model.add(Dense(12, input_shape=(1,128), activation='relu'))\n",
        "    model.add(Dense(neurons, activation='relu'))\n",
        "    model.add(Dense(1, activation='tanh'))\n",
        "    # Compile model\n",
        "    optimizer = Nadam(lr=0.001)\n",
        "    model.compile(loss='binary_crossentropy', optimizer=optimizer, metrics=['accuracy'])\n",
        "    return model\n",
        "# fix random seed for reproducibility\n",
        "seed = 7\n",
        "numpy.random.seed(seed)\n",
        "\n",
        "# create model\n",
        "model = KerasClassifier(build_fn=create_model, epochs=10, batch_size=10000, verbose=0)\n",
        "# define the grid search parameters\n",
        "neurons = [1, 5, 6, 10]\n",
        "param_grid = dict(neurons=neurons)\n",
        "grid = GridSearchCV(estimator=model, param_grid=param_grid, n_jobs=-1, cv=3, scoring=precision)\n",
        "grid_result = grid.fit(X_train, Y_train)\n",
        "# summarize results\n",
        "print(\"Precision Score: %f\" % (grid_result.best_score_))"
      ],
      "execution_count": null,
      "outputs": [
        {
          "output_type": "stream",
          "text": [
            "Precision Score: 0.953749\n"
          ],
          "name": "stdout"
        }
      ]
    },
    {
      "cell_type": "code",
      "metadata": {
        "colab": {
          "base_uri": "https://localhost:8080/"
        },
        "id": "kUXBOSk1Qa-Q",
        "outputId": "3a748ba0-1b7c-41ad-8119-3c260dc987b4"
      },
      "source": [
        "# Use scikit-learn to grid search the number of neurons\n",
        "import numpy\n",
        "from sklearn.model_selection import GridSearchCV\n",
        "from keras.models import Sequential\n",
        "from keras.layers import Dense\n",
        "from keras.layers import Dropout\n",
        "from keras.wrappers.scikit_learn import KerasClassifier\n",
        "from keras.constraints import maxnorm\n",
        "from sklearn import preprocessing\n",
        "from keras.optimizers import Nadam\n",
        "\n",
        "from sklearn.metrics import recall_score, make_scorer\n",
        "recall = make_scorer(recall_score , average='weighted')  \n",
        "\n",
        "# Function to create model, required for KerasClassifier\n",
        "def create_model(neurons=1):\n",
        "    model = Sequential()\n",
        "    model.add(Conv2D(filters=8, kernel_size=(3,3), padding='same', activation='relu', input_shape=(3, 3, 1)))\n",
        "    model.add(MaxPool2D(strides=2))  \n",
        "    model.add(Flatten())\n",
        "    model.add(Dense(12, input_shape=(1,128), activation='relu'))\n",
        "    model.add(Dense(neurons, activation='relu'))\n",
        "    model.add(Dense(1, activation='tanh'))\n",
        "    # Compile model\n",
        "    optimizer = Nadam(lr=0.001)\n",
        "    model.compile(loss='binary_crossentropy', optimizer=optimizer, metrics=['accuracy'])\n",
        "    return model\n",
        "# fix random seed for reproducibility\n",
        "seed = 7\n",
        "numpy.random.seed(seed)\n",
        "\n",
        "# create model\n",
        "model = KerasClassifier(build_fn=create_model, epochs=10, batch_size=10000, verbose=0)\n",
        "# define the grid search parameters\n",
        "neurons = [1, 5, 6, 10]\n",
        "param_grid = dict(neurons=neurons)\n",
        "grid = GridSearchCV(estimator=model, param_grid=param_grid, n_jobs=-1, cv=3, scoring=recall)\n",
        "grid_result = grid.fit(X_train, Y_train)\n",
        "# summarize results\n",
        "print(\"Recall Score: %f\" % (grid_result.best_score_))"
      ],
      "execution_count": null,
      "outputs": [
        {
          "output_type": "stream",
          "text": [
            "Recall Score: 0.976011\n"
          ],
          "name": "stdout"
        }
      ]
    },
    {
      "cell_type": "code",
      "metadata": {
        "colab": {
          "base_uri": "https://localhost:8080/"
        },
        "id": "OBtHpYErQqE0",
        "outputId": "84768e2d-752b-4a91-e170-a51083e1a146"
      },
      "source": [
        "# Use scikit-learn to grid search the number of neurons\n",
        "import numpy\n",
        "from sklearn.model_selection import GridSearchCV\n",
        "from keras.models import Sequential\n",
        "from keras.layers import Dense\n",
        "from keras.layers import Dropout\n",
        "from keras.wrappers.scikit_learn import KerasClassifier\n",
        "from keras.constraints import maxnorm\n",
        "from sklearn import preprocessing\n",
        "from keras.optimizers import Nadam\n",
        "\n",
        "from sklearn.metrics import f1_score, make_scorer\n",
        "f1 = make_scorer(f1_score , average='weighted')  \n",
        "\n",
        "# Function to create model, required for KerasClassifier\n",
        "def create_model(neurons=1):\n",
        "    model = Sequential()\n",
        "    model.add(Conv2D(filters=8, kernel_size=(3,3), padding='same', activation='relu', input_shape=(3, 3, 1)))\n",
        "    model.add(MaxPool2D(strides=2))  \n",
        "    model.add(Flatten())\n",
        "    model.add(Dense(12, input_shape=(1,128), activation='relu'))\n",
        "    model.add(Dense(neurons, activation='relu'))\n",
        "    model.add(Dense(1, activation='tanh'))\n",
        "    # Compile model\n",
        "    optimizer = Nadam(lr=0.001)\n",
        "    model.compile(loss='binary_crossentropy', optimizer=optimizer, metrics=['accuracy'])\n",
        "    return model\n",
        "# fix random seed for reproducibility\n",
        "seed = 7\n",
        "numpy.random.seed(seed)\n",
        "\n",
        "# create model\n",
        "model = KerasClassifier(build_fn=create_model, epochs=10, batch_size=10000, verbose=0)\n",
        "# define the grid search parameters\n",
        "neurons = [1, 5, 6, 10]\n",
        "param_grid = dict(neurons=neurons)\n",
        "grid = GridSearchCV(estimator=model, param_grid=param_grid, n_jobs=-1, cv=3, scoring=f1)\n",
        "grid_result = grid.fit(X_train, Y_train)\n",
        "# summarize results\n",
        "print(\"F1 Score: %f\" % (grid_result.best_score_))"
      ],
      "execution_count": null,
      "outputs": [
        {
          "output_type": "stream",
          "text": [
            "F1 Score: 0.964464\n"
          ],
          "name": "stdout"
        }
      ]
    },
    {
      "cell_type": "code",
      "metadata": {
        "colab": {
          "base_uri": "https://localhost:8080/"
        },
        "id": "77gXHFGi2D5R",
        "outputId": "b5231520-3a9e-4321-cb90-c915bf54964b"
      },
      "source": [
        "# Use scikit-learn to grid search the number of neurons\n",
        "import numpy\n",
        "from sklearn.model_selection import GridSearchCV\n",
        "from keras.models import Sequential\n",
        "from keras.layers import Dense\n",
        "from keras.layers import Dropout\n",
        "from keras.wrappers.scikit_learn import KerasClassifier\n",
        "from keras.constraints import maxnorm\n",
        "from sklearn import preprocessing\n",
        "from keras.optimizers import Nadam\n",
        "\n",
        "# Function to create model, required for KerasClassifier\n",
        "def create_model(neurons=1):\n",
        "    model = Sequential()\n",
        "    model.add(Conv2D(filters=8, kernel_size=(3,3), padding='same', activation='relu', input_shape=(3, 3, 1)))\n",
        "    model.add(MaxPool2D(strides=2))  \n",
        "    model.add(Flatten())\n",
        "    model.add(Dense(12, input_shape=(1,128), activation='relu'))\n",
        "    model.add(Dense(neurons, activation='relu'))\n",
        "    model.add(Dense(1, activation='tanh'))\n",
        "    # Compile model\n",
        "    optimizer = Nadam(lr=0.001)\n",
        "    model.compile(loss='binary_crossentropy', optimizer=optimizer, metrics=['accuracy'])\n",
        "    return model\n",
        "# fix random seed for reproducibility\n",
        "seed = 7\n",
        "numpy.random.seed(seed)\n",
        "\n",
        "# create model\n",
        "model = KerasClassifier(build_fn=create_model, epochs=10, batch_size=10000, verbose=0)\n",
        "# define the grid search parameters\n",
        "neurons = [1, 5, 6, 10]\n",
        "param_grid = dict(neurons=neurons)\n",
        "grid = GridSearchCV(estimator=model, param_grid=param_grid, n_jobs=-1, cv=3)\n",
        "grid_result = grid.fit(X_train, Y_train)\n",
        "# summarize results\n",
        "print(\"Best: %f using %s\" % (grid_result.best_score_, grid_result.best_params_))\n",
        "means = grid_result.cv_results_['mean_test_score']\n",
        "stds = grid_result.cv_results_['std_test_score']\n",
        "params = grid_result.cv_results_['params']\n",
        "for mean, stdev, param in zip(means, stds, params):\n",
        "    print(\"%f (%f) with: %r\" % (mean, stdev, param))"
      ],
      "execution_count": null,
      "outputs": [
        {
          "output_type": "stream",
          "text": [
            "Best: 0.976011 using {'neurons': 5}\n",
            "0.309344 (0.437479) with: {'neurons': 1}\n",
            "0.976011 (0.033925) with: {'neurons': 5}\n",
            "0.642678 (0.455391) with: {'neurons': 6}\n",
            "0.357322 (0.455391) with: {'neurons': 10}\n"
          ],
          "name": "stdout"
        }
      ]
    },
    {
      "cell_type": "code",
      "metadata": {
        "colab": {
          "base_uri": "https://localhost:8080/",
          "height": 894
        },
        "id": "9zzBd6eVRkE_",
        "outputId": "eda0adac-124e-4c84-fb9c-f69566c3acb6"
      },
      "source": [
        "from sklearn.model_selection import learning_curve\n",
        "import numpy as np\n",
        "import os\n",
        "import pandas as pd\n",
        "import matplotlib.pyplot as plt\n",
        "import seaborn as sns\n",
        "\n",
        "def plot_learning_curve(estimator, title, X, y, axes=None, ylim=None, cv=None,\n",
        "                        n_jobs=None, train_sizes=np.linspace(.1, 1.0, 5)):\n",
        "    if axes is None:\n",
        "        _, axes = plt.subplots(1, 3, figsize=(20, 5))\n",
        "\n",
        "    axes[0].set_title(title)\n",
        "    if ylim is not None:\n",
        "        axes[0].set_ylim(*ylim)\n",
        "    axes[0].set_xlabel(\"Training examples\")\n",
        "    axes[0].set_ylabel(\"Score\")\n",
        "\n",
        "    train_sizes, train_scores, test_scores, fit_times, _ = \\\n",
        "        learning_curve(estimator, X, y, cv=cv, n_jobs=n_jobs,\n",
        "                       train_sizes=train_sizes,\n",
        "                       return_times=True)\n",
        "    train_scores_mean = np.mean(train_scores, axis=1)\n",
        "    train_scores_std = np.std(train_scores, axis=1)\n",
        "    test_scores_mean = np.mean(test_scores, axis=1)\n",
        "    test_scores_std = np.std(test_scores, axis=1)\n",
        "    fit_times_mean = np.mean(fit_times, axis=1)\n",
        "    fit_times_std = np.std(fit_times, axis=1)\n",
        "\n",
        "    # Plot learning curve\n",
        "    axes[0].grid()\n",
        "    axes[0].fill_between(train_sizes, train_scores_mean - train_scores_std,\n",
        "                         train_scores_mean + train_scores_std, alpha=0.1,\n",
        "                         color=\"r\")\n",
        "    axes[0].fill_between(train_sizes, test_scores_mean - test_scores_std,\n",
        "                         test_scores_mean + test_scores_std, alpha=0.1,\n",
        "                         color=\"g\")\n",
        "    axes[0].plot(train_sizes, train_scores_mean, 'o-', color=\"r\",\n",
        "                 label=\"Training score\")\n",
        "    axes[0].plot(train_sizes, test_scores_mean, 'o-', color=\"g\",\n",
        "                 label=\"Cross-validation score\")\n",
        "    axes[0].legend(loc=\"best\")\n",
        "\n",
        "    # Plot n_samples vs fit_times\n",
        "    axes[1].grid()\n",
        "    axes[1].plot(train_sizes, fit_times_mean, 'o-')\n",
        "    axes[1].fill_between(train_sizes, fit_times_mean - fit_times_std,\n",
        "                         fit_times_mean + fit_times_std, alpha=0.1)\n",
        "    axes[1].set_xlabel(\"Training examples\")\n",
        "    axes[1].set_ylabel(\"fit_times\")\n",
        "    axes[1].set_title(\"Scalability of the model\")\n",
        "\n",
        "    # Plot fit_time vs score\n",
        "    axes[2].grid()\n",
        "    axes[2].plot(fit_times_mean, test_scores_mean, 'o-')\n",
        "    axes[2].fill_between(fit_times_mean, test_scores_mean - test_scores_std,\n",
        "                         test_scores_mean + test_scores_std, alpha=0.1)\n",
        "    axes[2].set_xlabel(\"fit_times\")\n",
        "    axes[2].set_ylabel(\"Score\")\n",
        "    axes[2].set_title(\"Performance of the model\")\n",
        "    return plt\n",
        "\n",
        "fig, axes = plt.subplots(3, 1, figsize=(10, 15))\n",
        "\n",
        "title = \"Learning Curves LENET-5 CNN (CPU Data)\"\n",
        "plot_learning_curve(model, title, X_train, Y_train, axes=axes[:], ylim=(0.0, 1.01),\n",
        "                    cv=3, n_jobs=-1)\n",
        "\n",
        "plt.show()"
      ],
      "execution_count": null,
      "outputs": [
        {
          "output_type": "display_data",
          "data": {
            "image/png": "[encoded data removed]",
            "text/plain": [
              "<Figure size 720x1080 with 3 Axes>"
            ]
          },
          "metadata": {
            "tags": [],
            "needs_background": "light"
          }
        }
      ]
    },
    {
      "cell_type": "code",
      "metadata": {
        "colab": {
          "base_uri": "https://localhost:8080/"
        },
        "id": "KAawRsJQR2Jm",
        "outputId": "b33e96a6-c536-42c4-953b-5929fb88edd0"
      },
      "source": [
        "y_pred = grid_result.best_estimator_.predict(X_train)\n",
        "from sklearn.metrics import confusion_matrix\n",
        "print(confusion_matrix(Y_train, y_pred))"
      ],
      "execution_count": null,
      "outputs": [
        {
          "output_type": "stream",
          "text": [
            "[[ 9533     0]\n",
            " [17146     0]]\n"
          ],
          "name": "stdout"
        }
      ]
    }
  ]
}